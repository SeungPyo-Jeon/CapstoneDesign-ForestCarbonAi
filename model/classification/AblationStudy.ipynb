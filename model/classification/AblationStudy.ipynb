{
 "cells": [
  {
   "cell_type": "markdown",
   "metadata": {},
   "source": [
    "## Commons( DataSet, Loader )"
   ]
  },
  {
   "cell_type": "code",
   "execution_count": 1,
   "metadata": {},
   "outputs": [],
   "source": [
    "import torch\n",
    "from torch.utils.data import DataLoader\n",
    "from torchvision import transforms\n",
    "import torch.nn as nn\n",
    "import torch.optim as optim\n",
    "import torch.nn.init as init\n",
    "from utils.utils import train_model, evaluate_model_with_cm, TiffDataset, base_transform,he_init_weights\n",
    "from models.video_classifier import VideoClassifier, BandExpansion, ResBlock, FeedForward,init\n",
    "import os\n",
    "import numpy as np\n",
    "import torch.nn.functional as F\n",
    "device = torch.device(\"cuda\" if torch.cuda.is_available() else \"cpu\")\n",
    "source_data_dir = rf\"C:\\Users\\전승표\\서울과기대\\JupyterNotebook\\Capstone\\git_folder\\data_final\\source_data\"\n",
    "label_file_path = rf\"C:\\Users\\전승표\\서울과기대\\JupyterNotebook\\Capstone\\git_folder\\data_final\\label_data\\species\\label_mapping_sampled.csv\"\n",
    "test_filter = lambda x: x >= 1 and (x % 50) in {1, 6, 13, 18, 25, 30, 32, 37, 44, 49}"
   ]
  },
  {
   "cell_type": "markdown",
   "metadata": {},
   "source": [
    "## Bands만 이용 ( 5월 , patch_size=3, resolution = 7.5m)"
   ]
  },
  {
   "cell_type": "code",
   "execution_count": 17,
   "metadata": {},
   "outputs": [],
   "source": [
    "epochs = 30\n",
    "bands = 10\n",
    "patch_size = 9 # 모델 안에서 3*3으로 변경\n",
    "\n",
    "train_dataset = TiffDataset(\n",
    "    large_tif_dir = os.path.join(source_data_dir,\"with_s2_int16\"),\n",
    "    file_list = [\"jiri_1.tif\", \"jiri_2.tif\", \"sobaek.tif\"], #전체 지역을 모두 사용한다.\n",
    "    label_file = label_file_path,\n",
    "    box_filter_fn = lambda box_number: not test_filter(box_number),\n",
    "    transform=base_transform(bands=bands, patch_size=patch_size),\n",
    "    patch_size = patch_size\n",
    ")\n",
    "val_dataset = TiffDataset(\n",
    "    large_tif_dir = os.path.join(source_data_dir,\"with_s2_int16\"),\n",
    "    file_list = [\"jiri_1.tif\", \"jiri_2.tif\", \"sobaek.tif\"], #전체 지역을 모두 사용한다.\n",
    "    label_file = label_file_path,\n",
    "    box_filter_fn = lambda box_number: test_filter(box_number),\n",
    "    transform=base_transform(bands=bands, patch_size=patch_size),\n",
    "    patch_size = patch_size\n",
    ")\n",
    "\n",
    "train_loader = DataLoader(train_dataset, batch_size=32, shuffle=True)\n",
    "val_loader = DataLoader(val_dataset, batch_size=32, shuffle=False)\n"
   ]
  },
  {
   "cell_type": "markdown",
   "metadata": {},
   "source": [
    "### CNN video classification"
   ]
  },
  {
   "cell_type": "code",
   "execution_count": 18,
   "metadata": {},
   "outputs": [
    {
     "name": "stdout",
     "output_type": "stream",
     "text": [
      "파라미터 개수: 264054\n"
     ]
    }
   ],
   "source": [
    "class BandVideoClassifier(nn.Module):\n",
    "    def __init__(self, input_bands, stage_repeats, stage_channels, num_classes=6, dropout=0.3):\n",
    "        super().__init__()\n",
    "        \n",
    "        # 초기 밴드 확장 (입력 밴드 수 -> 첫 번째 stage 채널 크기)\n",
    "        self.initial_conv = BandExpansion(input_bands, stage_channels[0])\n",
    "        \n",
    "        self.stages = nn.ModuleList()\n",
    "        in_channels = stage_channels[0]\n",
    "        \n",
    "        # 4개의 Stage 구성\n",
    "        for stage_idx in range(4):\n",
    "            # 기본 ResBlock 반복 적용\n",
    "            blocks = [ResBlock(in_channels, dropout) for _ in range(stage_repeats[stage_idx])]\n",
    "            self.stages.append(nn.Sequential(*blocks))\n",
    "            \n",
    "            # 마지막 Stage를 제외하고 밴드 확장 수행\n",
    "            if stage_idx < 3:\n",
    "                self.stages.append(BandExpansion(in_channels, stage_channels[stage_idx + 1]))\n",
    "                in_channels = stage_channels[stage_idx + 1]\n",
    "        \n",
    "        # 글로벌 평균 풀링 적용 (공간 차원 제거)\n",
    "        self.gap = nn.AdaptiveAvgPool3d(1)\n",
    "        \n",
    "        # 피드포워드 블록 2개 추가\n",
    "        self.ff1 = FeedForward(in_channels, dropout=dropout)\n",
    "        self.ff2 = FeedForward(in_channels, dropout=dropout)\n",
    "        \n",
    "        # 최종 분류기 (Linear 레이어)\n",
    "        self.classifier = nn.Linear(in_channels, num_classes)\n",
    "        \n",
    "        # 가중치 초기화 적용\n",
    "        self.apply(self._init_weights)\n",
    "    \n",
    "    def _init_weights(self, m):\n",
    "        if isinstance(m, nn.Conv3d) or isinstance(m, nn.Linear):\n",
    "            init.kaiming_normal_(m.weight, mode='fan_out', nonlinearity='relu')\n",
    "            if m.bias is not None:\n",
    "                init.constant_(m.bias, 0)\n",
    "    \n",
    "    def forward(self, x):\n",
    "        batch, bands, time, h, w = x.size()\n",
    "        x = x[:,:,4,:,:].squeeze(2) #32, 10, 9, 9\n",
    "        #print(x.shape, x[0,0,:,:])\n",
    "        #x = F.avg_pool2d(x, kernel_size=3,stride=3,padding=0) #32, 10, 3, 3 해상도 축소\n",
    "        patches = x.unfold(2, 3, 3).unfold(3, 3, 3)\n",
    "        # 패치를 평탄화하여 중간값 계산을 위한 형태로 변환\n",
    "        patches_flat = patches.reshape(batch, bands, -1, 9)\n",
    "\n",
    "        # 정렬하여 중간값(4번째 요소) 찾기\n",
    "        sorted_patches, _ = torch.sort(patches_flat, dim=-1)\n",
    "        median_values = sorted_patches[:, :, :, 4]\n",
    "\n",
    "        # 중간값을 원래 크기의 텐서로 재구성\n",
    "        new_h = (h - 3) // 3 + 1\n",
    "        new_w = (w - 3) // 3 + 1\n",
    "        x = median_values.reshape(batch,bands,-1 , new_h, new_w)\n",
    "        #print(x.shape, x[0,0,0,:,:])\n",
    "        #x = F.interpolate(x, size=(x.shape[2]*3 ,x.shape[3]*3), mode='nearest') #32, 10, 9, 9\n",
    "        #x = x.unsqueeze(2) \n",
    "        #print(x.shape, x[0,0,:,:,:])\n",
    "        x = self.initial_conv(x)  # 초기 밴드 확장 적용\n",
    "        \n",
    "        # Stage 반복 수행\n",
    "        for stage in self.stages:\n",
    "            x = stage(x)\n",
    "        \n",
    "        # 글로벌 평균 풀링 적용 후 차원 축소\n",
    "        x = self.gap(x).view(x.size(0), -1)\n",
    "        \n",
    "        # 피드포워드 블록 두 개 통과\n",
    "        x = self.ff1(x.unsqueeze(-1).unsqueeze(-1).unsqueeze(-1))\n",
    "        x = self.ff2(x)\n",
    "        \n",
    "        # 최종 분류기 적용\n",
    "        x = self.classifier(x.squeeze(-1).squeeze(-1).squeeze(-1))\n",
    "        return x\n",
    "    \n",
    "# 모델 설정\n",
    "stage_repeats = [2, 2, 3, 2]  # 각 stage에서 ResBlock 반복 횟수\n",
    "stage_channels = [16,24,35,48] # 각 stage의 채널 크기 [16,24,48,96] =>263,958\n",
    "num_classes = 6  # 분류할 클래스 개수\n",
    "bands = 10\n",
    "\n",
    "# 모델 생성\n",
    "model = BandVideoClassifier(bands, stage_repeats, stage_channels, num_classes=num_classes).to(device)\n",
    "criterion = nn.CrossEntropyLoss()\n",
    "optimizer = optim.AdamW(model.parameters(), lr=3e-4, weight_decay=1e-2)\n",
    "total_params = sum(p.numel() for p in model.parameters() if p.requires_grad)\n",
    "print(f\"파라미터 개수: {total_params}\")\n"
   ]
  },
  {
   "cell_type": "code",
   "execution_count": 19,
   "metadata": {},
   "outputs": [
    {
     "name": "stderr",
     "output_type": "stream",
     "text": [
      "Epoch 1/30 - Training:   0%|          | 0/5680 [00:00<?, ?it/s]"
     ]
    },
    {
     "name": "stderr",
     "output_type": "stream",
     "text": [
      "Epoch 1/30 - Training: 100%|██████████| 5680/5680 [04:38<00:00, 20.38it/s]\n",
      "Epoch 1/30 - Validation: 100%|██████████| 1416/1416 [00:24<00:00, 56.97it/s]\n",
      "C:\\Users\\전승표\\AppData\\Roaming\\Python\\Python38\\site-packages\\sklearn\\metrics\\_classification.py:1471: UndefinedMetricWarning: Precision and F-score are ill-defined and being set to 0.0 in labels with no predicted samples. Use `zero_division` parameter to control this behavior.\n",
      "  _warn_prf(average, modifier, msg_start, len(result))\n",
      "C:\\Users\\전승표\\AppData\\Roaming\\Python\\Python38\\site-packages\\sklearn\\metrics\\_classification.py:1471: UndefinedMetricWarning: Precision and F-score are ill-defined and being set to 0.0 in labels with no predicted samples. Use `zero_division` parameter to control this behavior.\n",
      "  _warn_prf(average, modifier, msg_start, len(result))\n",
      "C:\\Users\\전승표\\AppData\\Roaming\\Python\\Python38\\site-packages\\sklearn\\metrics\\_classification.py:1471: UndefinedMetricWarning: Precision and F-score are ill-defined and being set to 0.0 in labels with no predicted samples. Use `zero_division` parameter to control this behavior.\n",
      "  _warn_prf(average, modifier, msg_start, len(result))\n"
     ]
    },
    {
     "name": "stdout",
     "output_type": "stream",
     "text": [
      "\n",
      "Epoch [1/30], Train Loss: 2.3290, Train Accuracy: 0.21, Train f1-score: 0.18 Val Loss: 1.8489, Val Accuracy: 0.11, Val f1-score: 0.03\n",
      "\n"
     ]
    },
    {
     "name": "stderr",
     "output_type": "stream",
     "text": [
      "Epoch 2/30 - Training: 100%|██████████| 5680/5680 [03:31<00:00, 26.89it/s]\n",
      "Epoch 2/30 - Validation: 100%|██████████| 1416/1416 [00:24<00:00, 58.42it/s]\n",
      "C:\\Users\\전승표\\AppData\\Roaming\\Python\\Python38\\site-packages\\sklearn\\metrics\\_classification.py:1471: UndefinedMetricWarning: Precision and F-score are ill-defined and being set to 0.0 in labels with no predicted samples. Use `zero_division` parameter to control this behavior.\n",
      "  _warn_prf(average, modifier, msg_start, len(result))\n",
      "C:\\Users\\전승표\\AppData\\Roaming\\Python\\Python38\\site-packages\\sklearn\\metrics\\_classification.py:1471: UndefinedMetricWarning: Precision and F-score are ill-defined and being set to 0.0 in labels with no predicted samples. Use `zero_division` parameter to control this behavior.\n",
      "  _warn_prf(average, modifier, msg_start, len(result))\n",
      "C:\\Users\\전승표\\AppData\\Roaming\\Python\\Python38\\site-packages\\sklearn\\metrics\\_classification.py:1471: UndefinedMetricWarning: Precision and F-score are ill-defined and being set to 0.0 in labels with no predicted samples. Use `zero_division` parameter to control this behavior.\n",
      "  _warn_prf(average, modifier, msg_start, len(result))\n"
     ]
    },
    {
     "name": "stdout",
     "output_type": "stream",
     "text": [
      "\n",
      "Epoch [2/30], Train Loss: 1.8185, Train Accuracy: 0.28, Train f1-score: 0.19 Val Loss: 1.9134, Val Accuracy: 0.13, Val f1-score: 0.06\n",
      "\n"
     ]
    },
    {
     "name": "stderr",
     "output_type": "stream",
     "text": [
      "Epoch 3/30 - Training: 100%|██████████| 5680/5680 [03:31<00:00, 26.85it/s]\n",
      "Epoch 3/30 - Validation: 100%|██████████| 1416/1416 [00:24<00:00, 58.90it/s]\n",
      "C:\\Users\\전승표\\AppData\\Roaming\\Python\\Python38\\site-packages\\sklearn\\metrics\\_classification.py:1471: UndefinedMetricWarning: Precision and F-score are ill-defined and being set to 0.0 in labels with no predicted samples. Use `zero_division` parameter to control this behavior.\n",
      "  _warn_prf(average, modifier, msg_start, len(result))\n",
      "C:\\Users\\전승표\\AppData\\Roaming\\Python\\Python38\\site-packages\\sklearn\\metrics\\_classification.py:1471: UndefinedMetricWarning: Precision and F-score are ill-defined and being set to 0.0 in labels with no predicted samples. Use `zero_division` parameter to control this behavior.\n",
      "  _warn_prf(average, modifier, msg_start, len(result))\n",
      "C:\\Users\\전승표\\AppData\\Roaming\\Python\\Python38\\site-packages\\sklearn\\metrics\\_classification.py:1471: UndefinedMetricWarning: Precision and F-score are ill-defined and being set to 0.0 in labels with no predicted samples. Use `zero_division` parameter to control this behavior.\n",
      "  _warn_prf(average, modifier, msg_start, len(result))\n"
     ]
    },
    {
     "name": "stdout",
     "output_type": "stream",
     "text": [
      "\n",
      "Epoch [3/30], Train Loss: 1.6425, Train Accuracy: 0.34, Train f1-score: 0.22 Val Loss: 1.6594, Val Accuracy: 0.27, Val f1-score: 0.22\n",
      "\n"
     ]
    },
    {
     "name": "stderr",
     "output_type": "stream",
     "text": [
      "Epoch 4/30 - Training: 100%|██████████| 5680/5680 [03:31<00:00, 26.84it/s]\n",
      "Epoch 4/30 - Validation: 100%|██████████| 1416/1416 [00:24<00:00, 57.72it/s]\n",
      "C:\\Users\\전승표\\AppData\\Roaming\\Python\\Python38\\site-packages\\sklearn\\metrics\\_classification.py:1471: UndefinedMetricWarning: Precision and F-score are ill-defined and being set to 0.0 in labels with no predicted samples. Use `zero_division` parameter to control this behavior.\n",
      "  _warn_prf(average, modifier, msg_start, len(result))\n",
      "C:\\Users\\전승표\\AppData\\Roaming\\Python\\Python38\\site-packages\\sklearn\\metrics\\_classification.py:1471: UndefinedMetricWarning: Precision and F-score are ill-defined and being set to 0.0 in labels with no predicted samples. Use `zero_division` parameter to control this behavior.\n",
      "  _warn_prf(average, modifier, msg_start, len(result))\n",
      "C:\\Users\\전승표\\AppData\\Roaming\\Python\\Python38\\site-packages\\sklearn\\metrics\\_classification.py:1471: UndefinedMetricWarning: Precision and F-score are ill-defined and being set to 0.0 in labels with no predicted samples. Use `zero_division` parameter to control this behavior.\n",
      "  _warn_prf(average, modifier, msg_start, len(result))\n"
     ]
    },
    {
     "name": "stdout",
     "output_type": "stream",
     "text": [
      "\n",
      "Epoch [4/30], Train Loss: 1.3344, Train Accuracy: 0.45, Train f1-score: 0.38 Val Loss: 1.2246, Val Accuracy: 0.48, Val f1-score: 0.41\n",
      "\n"
     ]
    },
    {
     "name": "stderr",
     "output_type": "stream",
     "text": [
      "Epoch 5/30 - Training: 100%|██████████| 5680/5680 [03:31<00:00, 26.80it/s]\n",
      "Epoch 5/30 - Validation: 100%|██████████| 1416/1416 [00:24<00:00, 58.46it/s]\n",
      "C:\\Users\\전승표\\AppData\\Roaming\\Python\\Python38\\site-packages\\sklearn\\metrics\\_classification.py:1471: UndefinedMetricWarning: Precision and F-score are ill-defined and being set to 0.0 in labels with no predicted samples. Use `zero_division` parameter to control this behavior.\n",
      "  _warn_prf(average, modifier, msg_start, len(result))\n",
      "C:\\Users\\전승표\\AppData\\Roaming\\Python\\Python38\\site-packages\\sklearn\\metrics\\_classification.py:1471: UndefinedMetricWarning: Precision and F-score are ill-defined and being set to 0.0 in labels with no predicted samples. Use `zero_division` parameter to control this behavior.\n",
      "  _warn_prf(average, modifier, msg_start, len(result))\n",
      "C:\\Users\\전승표\\AppData\\Roaming\\Python\\Python38\\site-packages\\sklearn\\metrics\\_classification.py:1471: UndefinedMetricWarning: Precision and F-score are ill-defined and being set to 0.0 in labels with no predicted samples. Use `zero_division` parameter to control this behavior.\n",
      "  _warn_prf(average, modifier, msg_start, len(result))\n"
     ]
    },
    {
     "name": "stdout",
     "output_type": "stream",
     "text": [
      "\n",
      "Epoch [5/30], Train Loss: 1.1713, Train Accuracy: 0.50, Train f1-score: 0.45 Val Loss: 1.1549, Val Accuracy: 0.52, Val f1-score: 0.49\n",
      "\n"
     ]
    },
    {
     "name": "stderr",
     "output_type": "stream",
     "text": [
      "Epoch 6/30 - Training: 100%|██████████| 5680/5680 [03:30<00:00, 27.04it/s]\n",
      "Epoch 6/30 - Validation: 100%|██████████| 1416/1416 [00:24<00:00, 57.53it/s]\n"
     ]
    },
    {
     "name": "stdout",
     "output_type": "stream",
     "text": [
      "\n",
      "Epoch [6/30], Train Loss: 1.0633, Train Accuracy: 0.57, Train f1-score: 0.52 Val Loss: 1.0646, Val Accuracy: 0.57, Val f1-score: 0.56\n",
      "\n"
     ]
    },
    {
     "name": "stderr",
     "output_type": "stream",
     "text": [
      "Epoch 7/30 - Training: 100%|██████████| 5680/5680 [03:30<00:00, 27.02it/s]\n",
      "Epoch 7/30 - Validation: 100%|██████████| 1416/1416 [00:24<00:00, 57.58it/s]\n"
     ]
    },
    {
     "name": "stdout",
     "output_type": "stream",
     "text": [
      "\n",
      "Epoch [7/30], Train Loss: 0.9748, Train Accuracy: 0.62, Train f1-score: 0.58 Val Loss: 0.9217, Val Accuracy: 0.64, Val f1-score: 0.65\n",
      "\n"
     ]
    },
    {
     "name": "stderr",
     "output_type": "stream",
     "text": [
      "Epoch 8/30 - Training: 100%|██████████| 5680/5680 [03:30<00:00, 26.96it/s]\n",
      "Epoch 8/30 - Validation: 100%|██████████| 1416/1416 [00:25<00:00, 55.76it/s]\n"
     ]
    },
    {
     "name": "stdout",
     "output_type": "stream",
     "text": [
      "\n",
      "Epoch [8/30], Train Loss: 0.9150, Train Accuracy: 0.64, Train f1-score: 0.62 Val Loss: 0.8894, Val Accuracy: 0.65, Val f1-score: 0.66\n",
      "\n"
     ]
    },
    {
     "name": "stderr",
     "output_type": "stream",
     "text": [
      "Epoch 9/30 - Training: 100%|██████████| 5680/5680 [03:29<00:00, 27.09it/s]\n",
      "Epoch 9/30 - Validation: 100%|██████████| 1416/1416 [00:25<00:00, 55.31it/s]\n"
     ]
    },
    {
     "name": "stdout",
     "output_type": "stream",
     "text": [
      "\n",
      "Epoch [9/30], Train Loss: 0.8729, Train Accuracy: 0.66, Train f1-score: 0.64 Val Loss: 0.8565, Val Accuracy: 0.66, Val f1-score: 0.67\n",
      "\n"
     ]
    },
    {
     "name": "stderr",
     "output_type": "stream",
     "text": [
      "Epoch 10/30 - Training: 100%|██████████| 5680/5680 [03:30<00:00, 27.00it/s]\n",
      "Epoch 10/30 - Validation: 100%|██████████| 1416/1416 [00:25<00:00, 56.23it/s]\n"
     ]
    },
    {
     "name": "stdout",
     "output_type": "stream",
     "text": [
      "\n",
      "Epoch [10/30], Train Loss: 0.8447, Train Accuracy: 0.67, Train f1-score: 0.65 Val Loss: 0.8900, Val Accuracy: 0.65, Val f1-score: 0.67\n",
      "\n"
     ]
    },
    {
     "name": "stderr",
     "output_type": "stream",
     "text": [
      "Epoch 11/30 - Training: 100%|██████████| 5680/5680 [03:29<00:00, 27.14it/s]\n",
      "Epoch 11/30 - Validation: 100%|██████████| 1416/1416 [00:25<00:00, 55.34it/s]\n"
     ]
    },
    {
     "name": "stdout",
     "output_type": "stream",
     "text": [
      "\n",
      "Epoch [11/30], Train Loss: 0.8187, Train Accuracy: 0.69, Train f1-score: 0.67 Val Loss: 0.8902, Val Accuracy: 0.64, Val f1-score: 0.65\n",
      "\n"
     ]
    },
    {
     "name": "stderr",
     "output_type": "stream",
     "text": [
      "Epoch 12/30 - Training: 100%|██████████| 5680/5680 [03:30<00:00, 26.99it/s]\n",
      "Epoch 12/30 - Validation: 100%|██████████| 1416/1416 [00:25<00:00, 54.74it/s]\n"
     ]
    },
    {
     "name": "stdout",
     "output_type": "stream",
     "text": [
      "\n",
      "Epoch [12/30], Train Loss: 0.8061, Train Accuracy: 0.69, Train f1-score: 0.67 Val Loss: 0.7994, Val Accuracy: 0.67, Val f1-score: 0.68\n",
      "\n"
     ]
    },
    {
     "name": "stderr",
     "output_type": "stream",
     "text": [
      "Epoch 13/30 - Training: 100%|██████████| 5680/5680 [03:31<00:00, 26.80it/s]\n",
      "Epoch 13/30 - Validation: 100%|██████████| 1416/1416 [00:25<00:00, 54.83it/s]\n"
     ]
    },
    {
     "name": "stdout",
     "output_type": "stream",
     "text": [
      "\n",
      "Epoch [13/30], Train Loss: 0.7900, Train Accuracy: 0.70, Train f1-score: 0.68 Val Loss: 0.8417, Val Accuracy: 0.66, Val f1-score: 0.67\n",
      "\n"
     ]
    },
    {
     "name": "stderr",
     "output_type": "stream",
     "text": [
      "Epoch 14/30 - Training: 100%|██████████| 5680/5680 [03:31<00:00, 26.85it/s]\n",
      "Epoch 14/30 - Validation: 100%|██████████| 1416/1416 [00:25<00:00, 55.64it/s]\n"
     ]
    },
    {
     "name": "stdout",
     "output_type": "stream",
     "text": [
      "\n",
      "Epoch [14/30], Train Loss: 0.7739, Train Accuracy: 0.70, Train f1-score: 0.69 Val Loss: 0.7967, Val Accuracy: 0.68, Val f1-score: 0.70\n",
      "\n"
     ]
    },
    {
     "name": "stderr",
     "output_type": "stream",
     "text": [
      "Epoch 15/30 - Training: 100%|██████████| 5680/5680 [03:31<00:00, 26.90it/s]\n",
      "Epoch 15/30 - Validation: 100%|██████████| 1416/1416 [00:25<00:00, 56.08it/s]\n"
     ]
    },
    {
     "name": "stdout",
     "output_type": "stream",
     "text": [
      "\n",
      "Epoch [15/30], Train Loss: 0.7573, Train Accuracy: 0.71, Train f1-score: 0.69 Val Loss: 0.7987, Val Accuracy: 0.68, Val f1-score: 0.69\n",
      "\n"
     ]
    },
    {
     "name": "stderr",
     "output_type": "stream",
     "text": [
      "Epoch 16/30 - Training: 100%|██████████| 5680/5680 [03:31<00:00, 26.86it/s]\n",
      "Epoch 16/30 - Validation: 100%|██████████| 1416/1416 [00:25<00:00, 56.21it/s]\n"
     ]
    },
    {
     "name": "stdout",
     "output_type": "stream",
     "text": [
      "\n",
      "Epoch [16/30], Train Loss: 0.7494, Train Accuracy: 0.72, Train f1-score: 0.70 Val Loss: 0.7915, Val Accuracy: 0.69, Val f1-score: 0.70\n",
      "\n"
     ]
    },
    {
     "name": "stderr",
     "output_type": "stream",
     "text": [
      "Epoch 17/30 - Training: 100%|██████████| 5680/5680 [03:31<00:00, 26.84it/s]\n",
      "Epoch 17/30 - Validation: 100%|██████████| 1416/1416 [00:24<00:00, 57.00it/s]\n"
     ]
    },
    {
     "name": "stdout",
     "output_type": "stream",
     "text": [
      "\n",
      "Epoch [17/30], Train Loss: 0.7355, Train Accuracy: 0.72, Train f1-score: 0.70 Val Loss: 0.7752, Val Accuracy: 0.70, Val f1-score: 0.71\n",
      "\n"
     ]
    },
    {
     "name": "stderr",
     "output_type": "stream",
     "text": [
      "Epoch 18/30 - Training: 100%|██████████| 5680/5680 [03:31<00:00, 26.84it/s]\n",
      "Epoch 18/30 - Validation: 100%|██████████| 1416/1416 [00:25<00:00, 56.56it/s]\n"
     ]
    },
    {
     "name": "stdout",
     "output_type": "stream",
     "text": [
      "\n",
      "Epoch [18/30], Train Loss: 0.7275, Train Accuracy: 0.72, Train f1-score: 0.70 Val Loss: 0.8114, Val Accuracy: 0.68, Val f1-score: 0.68\n",
      "\n"
     ]
    },
    {
     "name": "stderr",
     "output_type": "stream",
     "text": [
      "Epoch 19/30 - Training: 100%|██████████| 5680/5680 [03:31<00:00, 26.91it/s]\n",
      "Epoch 19/30 - Validation: 100%|██████████| 1416/1416 [00:24<00:00, 56.96it/s]\n"
     ]
    },
    {
     "name": "stdout",
     "output_type": "stream",
     "text": [
      "\n",
      "Epoch [19/30], Train Loss: 0.7159, Train Accuracy: 0.73, Train f1-score: 0.71 Val Loss: 0.7513, Val Accuracy: 0.70, Val f1-score: 0.72\n",
      "\n"
     ]
    },
    {
     "name": "stderr",
     "output_type": "stream",
     "text": [
      "Epoch 20/30 - Training: 100%|██████████| 5680/5680 [03:32<00:00, 26.70it/s]\n",
      "Epoch 20/30 - Validation: 100%|██████████| 1416/1416 [00:24<00:00, 58.72it/s]\n"
     ]
    },
    {
     "name": "stdout",
     "output_type": "stream",
     "text": [
      "\n",
      "Epoch [20/30], Train Loss: 0.7091, Train Accuracy: 0.73, Train f1-score: 0.71 Val Loss: 0.7635, Val Accuracy: 0.69, Val f1-score: 0.71\n",
      "\n"
     ]
    },
    {
     "name": "stderr",
     "output_type": "stream",
     "text": [
      "Epoch 21/30 - Training: 100%|██████████| 5680/5680 [03:32<00:00, 26.76it/s]\n",
      "Epoch 21/30 - Validation: 100%|██████████| 1416/1416 [00:24<00:00, 58.36it/s]\n"
     ]
    },
    {
     "name": "stdout",
     "output_type": "stream",
     "text": [
      "\n",
      "Epoch [21/30], Train Loss: 0.6964, Train Accuracy: 0.73, Train f1-score: 0.72 Val Loss: 0.7369, Val Accuracy: 0.71, Val f1-score: 0.72\n",
      "\n"
     ]
    },
    {
     "name": "stderr",
     "output_type": "stream",
     "text": [
      "Epoch 22/30 - Training: 100%|██████████| 5680/5680 [03:32<00:00, 26.78it/s]\n",
      "Epoch 22/30 - Validation: 100%|██████████| 1416/1416 [00:23<00:00, 59.31it/s]\n"
     ]
    },
    {
     "name": "stdout",
     "output_type": "stream",
     "text": [
      "\n",
      "Epoch [22/30], Train Loss: 0.6862, Train Accuracy: 0.74, Train f1-score: 0.72 Val Loss: 0.7433, Val Accuracy: 0.71, Val f1-score: 0.72\n",
      "\n"
     ]
    },
    {
     "name": "stderr",
     "output_type": "stream",
     "text": [
      "Epoch 23/30 - Training: 100%|██████████| 5680/5680 [03:32<00:00, 26.79it/s]\n",
      "Epoch 23/30 - Validation: 100%|██████████| 1416/1416 [00:24<00:00, 58.84it/s]\n"
     ]
    },
    {
     "name": "stdout",
     "output_type": "stream",
     "text": [
      "\n",
      "Epoch [23/30], Train Loss: 0.6796, Train Accuracy: 0.74, Train f1-score: 0.72 Val Loss: 0.7679, Val Accuracy: 0.70, Val f1-score: 0.71\n",
      "\n"
     ]
    },
    {
     "name": "stderr",
     "output_type": "stream",
     "text": [
      "Epoch 24/30 - Training: 100%|██████████| 5680/5680 [03:32<00:00, 26.67it/s]\n",
      "Epoch 24/30 - Validation: 100%|██████████| 1416/1416 [00:24<00:00, 58.15it/s]\n"
     ]
    },
    {
     "name": "stdout",
     "output_type": "stream",
     "text": [
      "\n",
      "Epoch [24/30], Train Loss: 0.6670, Train Accuracy: 0.74, Train f1-score: 0.73 Val Loss: 0.7439, Val Accuracy: 0.71, Val f1-score: 0.72\n",
      "\n"
     ]
    },
    {
     "name": "stderr",
     "output_type": "stream",
     "text": [
      "Epoch 25/30 - Training: 100%|██████████| 5680/5680 [03:32<00:00, 26.77it/s]\n",
      "Epoch 25/30 - Validation: 100%|██████████| 1416/1416 [00:24<00:00, 58.08it/s]\n"
     ]
    },
    {
     "name": "stdout",
     "output_type": "stream",
     "text": [
      "\n",
      "Epoch [25/30], Train Loss: 0.6586, Train Accuracy: 0.75, Train f1-score: 0.73 Val Loss: 0.7489, Val Accuracy: 0.70, Val f1-score: 0.71\n",
      "\n"
     ]
    },
    {
     "name": "stderr",
     "output_type": "stream",
     "text": [
      "Epoch 26/30 - Training: 100%|██████████| 5680/5680 [03:32<00:00, 26.76it/s]\n",
      "Epoch 26/30 - Validation: 100%|██████████| 1416/1416 [00:24<00:00, 57.97it/s]\n"
     ]
    },
    {
     "name": "stdout",
     "output_type": "stream",
     "text": [
      "\n",
      "Epoch [26/30], Train Loss: 0.6529, Train Accuracy: 0.75, Train f1-score: 0.74 Val Loss: 0.7797, Val Accuracy: 0.69, Val f1-score: 0.70\n",
      "\n"
     ]
    },
    {
     "name": "stderr",
     "output_type": "stream",
     "text": [
      "Epoch 27/30 - Training: 100%|██████████| 5680/5680 [03:32<00:00, 26.74it/s]\n",
      "Epoch 27/30 - Validation: 100%|██████████| 1416/1416 [00:24<00:00, 57.93it/s]\n"
     ]
    },
    {
     "name": "stdout",
     "output_type": "stream",
     "text": [
      "\n",
      "Epoch [27/30], Train Loss: 0.6451, Train Accuracy: 0.75, Train f1-score: 0.74 Val Loss: 0.7498, Val Accuracy: 0.70, Val f1-score: 0.71\n",
      "\n"
     ]
    },
    {
     "name": "stderr",
     "output_type": "stream",
     "text": [
      "Epoch 28/30 - Training: 100%|██████████| 5680/5680 [03:32<00:00, 26.72it/s]\n",
      "Epoch 28/30 - Validation: 100%|██████████| 1416/1416 [00:24<00:00, 58.30it/s]\n"
     ]
    },
    {
     "name": "stdout",
     "output_type": "stream",
     "text": [
      "\n",
      "Epoch [28/30], Train Loss: 0.6343, Train Accuracy: 0.76, Train f1-score: 0.74 Val Loss: 1.1248, Val Accuracy: 0.70, Val f1-score: 0.72\n",
      "\n"
     ]
    },
    {
     "name": "stderr",
     "output_type": "stream",
     "text": [
      "Epoch 29/30 - Training: 100%|██████████| 5680/5680 [03:31<00:00, 26.87it/s]\n",
      "Epoch 29/30 - Validation: 100%|██████████| 1416/1416 [00:23<00:00, 59.36it/s]\n"
     ]
    },
    {
     "name": "stdout",
     "output_type": "stream",
     "text": [
      "\n",
      "Epoch [29/30], Train Loss: 0.6282, Train Accuracy: 0.76, Train f1-score: 0.75 Val Loss: 1.0238, Val Accuracy: 0.66, Val f1-score: 0.67\n",
      "\n"
     ]
    },
    {
     "name": "stderr",
     "output_type": "stream",
     "text": [
      "Epoch 30/30 - Training: 100%|██████████| 5680/5680 [03:31<00:00, 26.91it/s]\n",
      "Epoch 30/30 - Validation: 100%|██████████| 1416/1416 [00:24<00:00, 57.75it/s]\n"
     ]
    },
    {
     "name": "stdout",
     "output_type": "stream",
     "text": [
      "\n",
      "Epoch [30/30], Train Loss: 0.6206, Train Accuracy: 0.76, Train f1-score: 0.75 Val Loss: 0.9290, Val Accuracy: 0.69, Val f1-score: 0.71\n",
      "\n"
     ]
    }
   ],
   "source": [
    "best_model_state, train_losses, val_losses = train_model(model, train_loader, val_loader, criterion, optimizer, num_epochs=epochs)\n",
    "os.makedirs(\"./checkpoints/ablation_study\", exist_ok=True)\n",
    "torch.save(best_model_state, f\"./checkpoints/ablation_study/cnn_videoclassification_{bands}_month5_{patch_size}_{epochs}.pth\")"
   ]
  },
  {
   "cell_type": "code",
   "execution_count": 20,
   "metadata": {},
   "outputs": [],
   "source": [
    "del model,train_loader,val_loader,best_model_state\n",
    "torch.cuda.empty_cache()"
   ]
  },
  {
   "cell_type": "markdown",
   "metadata": {},
   "source": [
    "## Spatial만 사용( band=NIR, month=5, resolution=2.5m , patch_size=9 )"
   ]
  },
  {
   "cell_type": "code",
   "execution_count": 2,
   "metadata": {},
   "outputs": [
    {
     "ename": "KeyboardInterrupt",
     "evalue": "",
     "output_type": "error",
     "traceback": [
      "\u001b[1;31m---------------------------------------------------------------------------\u001b[0m",
      "\u001b[1;31mKeyboardInterrupt\u001b[0m                         Traceback (most recent call last)",
      "Cell \u001b[1;32mIn[2], line 13\u001b[0m\n\u001b[0;32m      3\u001b[0m patch_size \u001b[38;5;241m=\u001b[39m \u001b[38;5;241m3\u001b[39m \u001b[38;5;66;03m# 모델 안에서 3*3으로 변경\u001b[39;00m\n\u001b[0;32m      5\u001b[0m train_dataset \u001b[38;5;241m=\u001b[39m TiffDataset(\n\u001b[0;32m      6\u001b[0m     large_tif_dir \u001b[38;5;241m=\u001b[39m os\u001b[38;5;241m.\u001b[39mpath\u001b[38;5;241m.\u001b[39mjoin(source_data_dir,\u001b[38;5;124m\"\u001b[39m\u001b[38;5;124mwith_s2_int16\u001b[39m\u001b[38;5;124m\"\u001b[39m),\n\u001b[0;32m      7\u001b[0m     file_list \u001b[38;5;241m=\u001b[39m [\u001b[38;5;124m\"\u001b[39m\u001b[38;5;124mjiri_1.tif\u001b[39m\u001b[38;5;124m\"\u001b[39m, \u001b[38;5;124m\"\u001b[39m\u001b[38;5;124mjiri_2.tif\u001b[39m\u001b[38;5;124m\"\u001b[39m, \u001b[38;5;124m\"\u001b[39m\u001b[38;5;124msobaek.tif\u001b[39m\u001b[38;5;124m\"\u001b[39m], \u001b[38;5;66;03m#전체 지역을 모두 사용한다.\u001b[39;00m\n\u001b[1;32m   (...)\u001b[0m\n\u001b[0;32m     11\u001b[0m     patch_size \u001b[38;5;241m=\u001b[39m patch_size\n\u001b[0;32m     12\u001b[0m )\n\u001b[1;32m---> 13\u001b[0m val_dataset \u001b[38;5;241m=\u001b[39m \u001b[43mTiffDataset\u001b[49m\u001b[43m(\u001b[49m\n\u001b[0;32m     14\u001b[0m \u001b[43m    \u001b[49m\u001b[43mlarge_tif_dir\u001b[49m\u001b[43m \u001b[49m\u001b[38;5;241;43m=\u001b[39;49m\u001b[43m \u001b[49m\u001b[43mos\u001b[49m\u001b[38;5;241;43m.\u001b[39;49m\u001b[43mpath\u001b[49m\u001b[38;5;241;43m.\u001b[39;49m\u001b[43mjoin\u001b[49m\u001b[43m(\u001b[49m\u001b[43msource_data_dir\u001b[49m\u001b[43m,\u001b[49m\u001b[38;5;124;43m\"\u001b[39;49m\u001b[38;5;124;43mwith_s2_int16\u001b[39;49m\u001b[38;5;124;43m\"\u001b[39;49m\u001b[43m)\u001b[49m\u001b[43m,\u001b[49m\n\u001b[0;32m     15\u001b[0m \u001b[43m    \u001b[49m\u001b[43mfile_list\u001b[49m\u001b[43m \u001b[49m\u001b[38;5;241;43m=\u001b[39;49m\u001b[43m \u001b[49m\u001b[43m[\u001b[49m\u001b[38;5;124;43m\"\u001b[39;49m\u001b[38;5;124;43mjiri_1.tif\u001b[39;49m\u001b[38;5;124;43m\"\u001b[39;49m\u001b[43m,\u001b[49m\u001b[43m \u001b[49m\u001b[38;5;124;43m\"\u001b[39;49m\u001b[38;5;124;43mjiri_2.tif\u001b[39;49m\u001b[38;5;124;43m\"\u001b[39;49m\u001b[43m,\u001b[49m\u001b[43m \u001b[49m\u001b[38;5;124;43m\"\u001b[39;49m\u001b[38;5;124;43msobaek.tif\u001b[39;49m\u001b[38;5;124;43m\"\u001b[39;49m\u001b[43m]\u001b[49m\u001b[43m,\u001b[49m\u001b[43m \u001b[49m\u001b[38;5;66;43;03m#전체 지역을 모두 사용한다.\u001b[39;49;00m\n\u001b[0;32m     16\u001b[0m \u001b[43m    \u001b[49m\u001b[43mlabel_file\u001b[49m\u001b[43m \u001b[49m\u001b[38;5;241;43m=\u001b[39;49m\u001b[43m \u001b[49m\u001b[43mlabel_file_path\u001b[49m\u001b[43m,\u001b[49m\n\u001b[0;32m     17\u001b[0m \u001b[43m    \u001b[49m\u001b[43mbox_filter_fn\u001b[49m\u001b[43m \u001b[49m\u001b[38;5;241;43m=\u001b[39;49m\u001b[43m \u001b[49m\u001b[38;5;28;43;01mlambda\u001b[39;49;00m\u001b[43m \u001b[49m\u001b[43mbox_number\u001b[49m\u001b[43m:\u001b[49m\u001b[43m \u001b[49m\u001b[43mtest_filter\u001b[49m\u001b[43m(\u001b[49m\u001b[43mbox_number\u001b[49m\u001b[43m)\u001b[49m\u001b[43m,\u001b[49m\n\u001b[0;32m     18\u001b[0m \u001b[43m    \u001b[49m\u001b[43mtransform\u001b[49m\u001b[38;5;241;43m=\u001b[39;49m\u001b[43mbase_transform\u001b[49m\u001b[43m(\u001b[49m\u001b[43mbands\u001b[49m\u001b[38;5;241;43m=\u001b[39;49m\u001b[43mbands\u001b[49m\u001b[43m,\u001b[49m\u001b[43m \u001b[49m\u001b[43mpatch_size\u001b[49m\u001b[38;5;241;43m=\u001b[39;49m\u001b[43mpatch_size\u001b[49m\u001b[43m)\u001b[49m\u001b[43m,\u001b[49m\n\u001b[0;32m     19\u001b[0m \u001b[43m    \u001b[49m\u001b[43mpatch_size\u001b[49m\u001b[43m \u001b[49m\u001b[38;5;241;43m=\u001b[39;49m\u001b[43m \u001b[49m\u001b[43mpatch_size\u001b[49m\n\u001b[0;32m     20\u001b[0m \u001b[43m)\u001b[49m\n\u001b[0;32m     22\u001b[0m train_loader \u001b[38;5;241m=\u001b[39m DataLoader(train_dataset, batch_size\u001b[38;5;241m=\u001b[39m\u001b[38;5;241m32\u001b[39m, shuffle\u001b[38;5;241m=\u001b[39m\u001b[38;5;28;01mTrue\u001b[39;00m)\n\u001b[0;32m     23\u001b[0m val_loader \u001b[38;5;241m=\u001b[39m DataLoader(val_dataset, batch_size\u001b[38;5;241m=\u001b[39m\u001b[38;5;241m32\u001b[39m, shuffle\u001b[38;5;241m=\u001b[39m\u001b[38;5;28;01mFalse\u001b[39;00m)\n",
      "File \u001b[1;32mc:\\Users\\전승표\\서울과기대\\JupyterNotebook\\Capstone\\git_folder\\forest_carbon_ai(ver3)\\model\\classification\\utils\\utils.py:337\u001b[0m, in \u001b[0;36mTiffDataset.__init__\u001b[1;34m(self, large_tif_dir, file_list, label_file, patch_size, box_filter_fn, transform)\u001b[0m\n\u001b[0;32m    334\u001b[0m \u001b[38;5;28mself\u001b[39m\u001b[38;5;241m.\u001b[39mimage_cache \u001b[38;5;241m=\u001b[39m {}\n\u001b[0;32m    336\u001b[0m \u001b[38;5;66;03m# 유효한 샘플만 남긴 인덱스 리스트\u001b[39;00m\n\u001b[1;32m--> 337\u001b[0m \u001b[38;5;28mself\u001b[39m\u001b[38;5;241m.\u001b[39mvalid_indices \u001b[38;5;241m=\u001b[39m \u001b[38;5;28;43mself\u001b[39;49m\u001b[38;5;241;43m.\u001b[39;49m\u001b[43m_filter_valid_indices\u001b[49m\u001b[43m(\u001b[49m\u001b[43m)\u001b[49m\n",
      "File \u001b[1;32mc:\\Users\\전승표\\서울과기대\\JupyterNotebook\\Capstone\\git_folder\\forest_carbon_ai(ver3)\\model\\classification\\utils\\utils.py:350\u001b[0m, in \u001b[0;36mTiffDataset._filter_valid_indices\u001b[1;34m(self)\u001b[0m\n\u001b[0;32m    348\u001b[0m \u001b[38;5;250m\u001b[39m\u001b[38;5;124;03m\"\"\"이미지 경계를 벗어나지 않는 유효한 인덱스만 저장\"\"\"\u001b[39;00m\n\u001b[0;32m    349\u001b[0m valid_indices \u001b[38;5;241m=\u001b[39m []\n\u001b[1;32m--> 350\u001b[0m \u001b[38;5;28;01mfor\u001b[39;00m idx, row \u001b[38;5;129;01min\u001b[39;00m \u001b[38;5;28mself\u001b[39m\u001b[38;5;241m.\u001b[39mlabel_df\u001b[38;5;241m.\u001b[39miterrows():\n\u001b[0;32m    351\u001b[0m     file_name \u001b[38;5;241m=\u001b[39m row[\u001b[38;5;124m\"\u001b[39m\u001b[38;5;124mfile\u001b[39m\u001b[38;5;124m\"\u001b[39m]\n\u001b[0;32m    352\u001b[0m     x, y \u001b[38;5;241m=\u001b[39m row[\u001b[38;5;124m\"\u001b[39m\u001b[38;5;124mx_pos\u001b[39m\u001b[38;5;124m\"\u001b[39m], row[\u001b[38;5;124m\"\u001b[39m\u001b[38;5;124my_pos\u001b[39m\u001b[38;5;124m\"\u001b[39m]\n",
      "File \u001b[1;32m~\\AppData\\Roaming\\Python\\Python38\\site-packages\\pandas\\core\\frame.py:1400\u001b[0m, in \u001b[0;36mDataFrame.iterrows\u001b[1;34m(self)\u001b[0m\n\u001b[0;32m   1398\u001b[0m using_cow \u001b[38;5;241m=\u001b[39m using_copy_on_write()\n\u001b[0;32m   1399\u001b[0m \u001b[38;5;28;01mfor\u001b[39;00m k, v \u001b[38;5;129;01min\u001b[39;00m \u001b[38;5;28mzip\u001b[39m(\u001b[38;5;28mself\u001b[39m\u001b[38;5;241m.\u001b[39mindex, \u001b[38;5;28mself\u001b[39m\u001b[38;5;241m.\u001b[39mvalues):\n\u001b[1;32m-> 1400\u001b[0m     s \u001b[38;5;241m=\u001b[39m \u001b[43mklass\u001b[49m\u001b[43m(\u001b[49m\u001b[43mv\u001b[49m\u001b[43m,\u001b[49m\u001b[43m \u001b[49m\u001b[43mindex\u001b[49m\u001b[38;5;241;43m=\u001b[39;49m\u001b[43mcolumns\u001b[49m\u001b[43m,\u001b[49m\u001b[43m \u001b[49m\u001b[43mname\u001b[49m\u001b[38;5;241;43m=\u001b[39;49m\u001b[43mk\u001b[49m\u001b[43m)\u001b[49m\u001b[38;5;241m.\u001b[39m__finalize__(\u001b[38;5;28mself\u001b[39m)\n\u001b[0;32m   1401\u001b[0m     \u001b[38;5;28;01mif\u001b[39;00m using_cow \u001b[38;5;129;01mand\u001b[39;00m \u001b[38;5;28mself\u001b[39m\u001b[38;5;241m.\u001b[39m_mgr\u001b[38;5;241m.\u001b[39mis_single_block:\n\u001b[0;32m   1402\u001b[0m         s\u001b[38;5;241m.\u001b[39m_mgr\u001b[38;5;241m.\u001b[39madd_references(\u001b[38;5;28mself\u001b[39m\u001b[38;5;241m.\u001b[39m_mgr)  \u001b[38;5;66;03m# type: ignore[arg-type]\u001b[39;00m\n",
      "File \u001b[1;32m~\\AppData\\Roaming\\Python\\Python38\\site-packages\\pandas\\core\\series.py:513\u001b[0m, in \u001b[0;36mSeries.__init__\u001b[1;34m(self, data, index, dtype, name, copy, fastpath)\u001b[0m\n\u001b[0;32m    511\u001b[0m manager \u001b[38;5;241m=\u001b[39m get_option(\u001b[38;5;124m\"\u001b[39m\u001b[38;5;124mmode.data_manager\u001b[39m\u001b[38;5;124m\"\u001b[39m)\n\u001b[0;32m    512\u001b[0m \u001b[38;5;28;01mif\u001b[39;00m manager \u001b[38;5;241m==\u001b[39m \u001b[38;5;124m\"\u001b[39m\u001b[38;5;124mblock\u001b[39m\u001b[38;5;124m\"\u001b[39m:\n\u001b[1;32m--> 513\u001b[0m     data \u001b[38;5;241m=\u001b[39m \u001b[43mSingleBlockManager\u001b[49m\u001b[38;5;241;43m.\u001b[39;49m\u001b[43mfrom_array\u001b[49m\u001b[43m(\u001b[49m\u001b[43mdata\u001b[49m\u001b[43m,\u001b[49m\u001b[43m \u001b[49m\u001b[43mindex\u001b[49m\u001b[43m,\u001b[49m\u001b[43m \u001b[49m\u001b[43mrefs\u001b[49m\u001b[38;5;241;43m=\u001b[39;49m\u001b[43mrefs\u001b[49m\u001b[43m)\u001b[49m\n\u001b[0;32m    514\u001b[0m \u001b[38;5;28;01melif\u001b[39;00m manager \u001b[38;5;241m==\u001b[39m \u001b[38;5;124m\"\u001b[39m\u001b[38;5;124marray\u001b[39m\u001b[38;5;124m\"\u001b[39m:\n\u001b[0;32m    515\u001b[0m     data \u001b[38;5;241m=\u001b[39m SingleArrayManager\u001b[38;5;241m.\u001b[39mfrom_array(data, index)\n",
      "File \u001b[1;32m~\\AppData\\Roaming\\Python\\Python38\\site-packages\\pandas\\core\\internals\\managers.py:1880\u001b[0m, in \u001b[0;36mSingleBlockManager.from_array\u001b[1;34m(cls, array, index, refs)\u001b[0m\n\u001b[0;32m   1873\u001b[0m \u001b[38;5;129m@classmethod\u001b[39m\n\u001b[0;32m   1874\u001b[0m \u001b[38;5;28;01mdef\u001b[39;00m \u001b[38;5;21mfrom_array\u001b[39m(\n\u001b[0;32m   1875\u001b[0m     \u001b[38;5;28mcls\u001b[39m, array: ArrayLike, index: Index, refs: BlockValuesRefs \u001b[38;5;241m|\u001b[39m \u001b[38;5;28;01mNone\u001b[39;00m \u001b[38;5;241m=\u001b[39m \u001b[38;5;28;01mNone\u001b[39;00m\n\u001b[0;32m   1876\u001b[0m ) \u001b[38;5;241m-\u001b[39m\u001b[38;5;241m>\u001b[39m SingleBlockManager:\n\u001b[0;32m   1877\u001b[0m \u001b[38;5;250m    \u001b[39m\u001b[38;5;124;03m\"\"\"\u001b[39;00m\n\u001b[0;32m   1878\u001b[0m \u001b[38;5;124;03m    Constructor for if we have an array that is not yet a Block.\u001b[39;00m\n\u001b[0;32m   1879\u001b[0m \u001b[38;5;124;03m    \"\"\"\u001b[39;00m\n\u001b[1;32m-> 1880\u001b[0m     block \u001b[38;5;241m=\u001b[39m \u001b[43mnew_block\u001b[49m\u001b[43m(\u001b[49m\u001b[43marray\u001b[49m\u001b[43m,\u001b[49m\u001b[43m \u001b[49m\u001b[43mplacement\u001b[49m\u001b[38;5;241;43m=\u001b[39;49m\u001b[38;5;28;43mslice\u001b[39;49m\u001b[43m(\u001b[49m\u001b[38;5;241;43m0\u001b[39;49m\u001b[43m,\u001b[49m\u001b[43m \u001b[49m\u001b[38;5;28;43mlen\u001b[39;49m\u001b[43m(\u001b[49m\u001b[43mindex\u001b[49m\u001b[43m)\u001b[49m\u001b[43m)\u001b[49m\u001b[43m,\u001b[49m\u001b[43m \u001b[49m\u001b[43mndim\u001b[49m\u001b[38;5;241;43m=\u001b[39;49m\u001b[38;5;241;43m1\u001b[39;49m\u001b[43m,\u001b[49m\u001b[43m \u001b[49m\u001b[43mrefs\u001b[49m\u001b[38;5;241;43m=\u001b[39;49m\u001b[43mrefs\u001b[49m\u001b[43m)\u001b[49m\n\u001b[0;32m   1881\u001b[0m     \u001b[38;5;28;01mreturn\u001b[39;00m \u001b[38;5;28mcls\u001b[39m(block, index)\n",
      "\u001b[1;31mKeyboardInterrupt\u001b[0m: "
     ]
    }
   ],
   "source": [
    "epochs = 30\n",
    "bands = 10\n",
    "patch_size = 3 # 모델 안에서 3*3으로 변경\n",
    "\n",
    "train_dataset = TiffDataset(\n",
    "    large_tif_dir = os.path.join(source_data_dir,\"with_s2_int16\"),\n",
    "    file_list = [\"jiri_1.tif\", \"jiri_2.tif\", \"sobaek.tif\"], #전체 지역을 모두 사용한다.\n",
    "    label_file = label_file_path,\n",
    "    box_filter_fn = lambda box_number: not test_filter(box_number),\n",
    "    transform=base_transform(bands=bands, patch_size=patch_size),\n",
    "    patch_size = patch_size\n",
    ")\n",
    "val_dataset = TiffDataset(\n",
    "    large_tif_dir = os.path.join(source_data_dir,\"with_s2_int16\"),\n",
    "    file_list = [\"jiri_1.tif\", \"jiri_2.tif\", \"sobaek.tif\"], #전체 지역을 모두 사용한다.\n",
    "    label_file = label_file_path,\n",
    "    box_filter_fn = lambda box_number: test_filter(box_number),\n",
    "    transform=base_transform(bands=bands, patch_size=patch_size),\n",
    "    patch_size = patch_size\n",
    ")\n",
    "\n",
    "train_loader = DataLoader(train_dataset, batch_size=32, shuffle=True)\n",
    "val_loader = DataLoader(val_dataset, batch_size=32, shuffle=False)\n"
   ]
  },
  {
   "cell_type": "code",
   "execution_count": null,
   "metadata": {},
   "outputs": [
    {
     "name": "stdout",
     "output_type": "stream",
     "text": [
      "파라미터 개수: 263910\n"
     ]
    }
   ],
   "source": [
    "class SpatialVideoClassifier(nn.Module):\n",
    "    def __init__(self, input_bands, stage_repeats, stage_channels, num_classes=6, dropout=0.3):\n",
    "        super().__init__()\n",
    "        \n",
    "        # 초기 밴드 확장 (입력 밴드 수 -> 첫 번째 stage 채널 크기)\n",
    "        self.initial_conv = BandExpansion(input_bands, stage_channels[0])\n",
    "        \n",
    "        self.stages = nn.ModuleList()\n",
    "        in_channels = stage_channels[0]\n",
    "        \n",
    "        # 4개의 Stage 구성\n",
    "        for stage_idx in range(4):\n",
    "            # 기본 ResBlock 반복 적용\n",
    "            blocks = [ResBlock(in_channels, dropout) for _ in range(stage_repeats[stage_idx])]\n",
    "            self.stages.append(nn.Sequential(*blocks))\n",
    "            \n",
    "            # 마지막 Stage를 제외하고 밴드 확장 수행\n",
    "            if stage_idx < 3:\n",
    "                self.stages.append(BandExpansion(in_channels, stage_channels[stage_idx + 1]))\n",
    "                in_channels = stage_channels[stage_idx + 1]\n",
    "        \n",
    "        # 글로벌 평균 풀링 적용 (공간 차원 제거)\n",
    "        self.gap = nn.AdaptiveAvgPool3d(1)\n",
    "        \n",
    "        # 피드포워드 블록 2개 추가\n",
    "        self.ff1 = FeedForward(in_channels, dropout=dropout)\n",
    "        self.ff2 = FeedForward(in_channels, dropout=dropout)\n",
    "        \n",
    "        # 최종 분류기 (Linear 레이어)\n",
    "        self.classifier = nn.Linear(in_channels, num_classes)\n",
    "        \n",
    "        # 가중치 초기화 적용\n",
    "        self.apply(self._init_weights)\n",
    "    \n",
    "    def _init_weights(self, m):\n",
    "        if isinstance(m, nn.Conv3d) or isinstance(m, nn.Linear):\n",
    "            init.kaiming_normal_(m.weight, mode='fan_out', nonlinearity='relu')\n",
    "            if m.bias is not None:\n",
    "                init.constant_(m.bias, 0)\n",
    "    \n",
    "    def forward(self, x):\n",
    "        x = x[:,3,4,:,:].unsqueeze(1).unsqueeze(2) #32, 1,1, 9, 9\n",
    "        #print(x.shape)\n",
    "        #print( x[0,0,0,:,:])\n",
    "        x = self.initial_conv(x)  # 초기 밴드 확장 적용\n",
    "        \n",
    "        # Stage 반복 수행\n",
    "        for stage in self.stages:\n",
    "            x = stage(x)\n",
    "        \n",
    "        # 글로벌 평균 풀링 적용 후 차원 축소\n",
    "        x = self.gap(x).view(x.size(0), -1)\n",
    "        \n",
    "        # 피드포워드 블록 두 개 통과\n",
    "        x = self.ff1(x.unsqueeze(-1).unsqueeze(-1).unsqueeze(-1))\n",
    "        x = self.ff2(x)\n",
    "        \n",
    "        # 최종 분류기 적용\n",
    "        x = self.classifier(x.squeeze(-1).squeeze(-1).squeeze(-1))\n",
    "        return x\n",
    "    \n",
    "# 모델 설정\n",
    "stage_repeats = [2, 2, 3, 2]  # 각 stage에서 ResBlock 반복 횟수\n",
    "stage_channels = [16,24,35,48] # 각 stage의 채널 크기 [16,24,48,96] =>263,958\n",
    "num_classes = 6  # 분류할 클래스 개수\n",
    "bands = 1\n",
    "\n",
    "# 모델 생성\n",
    "model = SpatialVideoClassifier(bands, stage_repeats, stage_channels, num_classes=num_classes).to(device)\n",
    "criterion = nn.CrossEntropyLoss()\n",
    "optimizer = optim.AdamW(model.parameters(), lr=3e-4, weight_decay=1e-2)\n",
    "total_params = sum(p.numel() for p in model.parameters() if p.requires_grad)\n",
    "print(f\"파라미터 개수: {total_params}\")\n"
   ]
  },
  {
   "cell_type": "code",
   "execution_count": null,
   "metadata": {},
   "outputs": [
    {
     "name": "stderr",
     "output_type": "stream",
     "text": [
      "Epoch 1/30 - Training: 100%|██████████| 5709/5709 [04:04<00:00, 23.31it/s]\n",
      "Epoch 1/30 - Validation: 100%|██████████| 1420/1420 [00:25<00:00, 55.57it/s]\n",
      "C:\\Users\\전승표\\AppData\\Roaming\\Python\\Python38\\site-packages\\sklearn\\metrics\\_classification.py:1471: UndefinedMetricWarning: Precision and F-score are ill-defined and being set to 0.0 in labels with no predicted samples. Use `zero_division` parameter to control this behavior.\n",
      "  _warn_prf(average, modifier, msg_start, len(result))\n",
      "C:\\Users\\전승표\\AppData\\Roaming\\Python\\Python38\\site-packages\\sklearn\\metrics\\_classification.py:1471: UndefinedMetricWarning: Precision and F-score are ill-defined and being set to 0.0 in labels with no predicted samples. Use `zero_division` parameter to control this behavior.\n",
      "  _warn_prf(average, modifier, msg_start, len(result))\n",
      "C:\\Users\\전승표\\AppData\\Roaming\\Python\\Python38\\site-packages\\sklearn\\metrics\\_classification.py:1471: UndefinedMetricWarning: Precision and F-score are ill-defined and being set to 0.0 in labels with no predicted samples. Use `zero_division` parameter to control this behavior.\n",
      "  _warn_prf(average, modifier, msg_start, len(result))\n"
     ]
    },
    {
     "name": "stdout",
     "output_type": "stream",
     "text": [
      "\n",
      "Epoch [1/30], Train Loss: 2.2493, Train Accuracy: 0.20, Train f1-score: 0.17 Val Loss: 1.8393, Val Accuracy: 0.10, Val f1-score: 0.03\n",
      "\n"
     ]
    },
    {
     "name": "stderr",
     "output_type": "stream",
     "text": [
      "Epoch 2/30 - Training: 100%|██████████| 5709/5709 [03:18<00:00, 28.81it/s]\n",
      "Epoch 2/30 - Validation: 100%|██████████| 1420/1420 [00:21<00:00, 64.57it/s]\n",
      "C:\\Users\\전승표\\AppData\\Roaming\\Python\\Python38\\site-packages\\sklearn\\metrics\\_classification.py:1471: UndefinedMetricWarning: Precision and F-score are ill-defined and being set to 0.0 in labels with no predicted samples. Use `zero_division` parameter to control this behavior.\n",
      "  _warn_prf(average, modifier, msg_start, len(result))\n",
      "C:\\Users\\전승표\\AppData\\Roaming\\Python\\Python38\\site-packages\\sklearn\\metrics\\_classification.py:1471: UndefinedMetricWarning: Precision and F-score are ill-defined and being set to 0.0 in labels with no predicted samples. Use `zero_division` parameter to control this behavior.\n",
      "  _warn_prf(average, modifier, msg_start, len(result))\n",
      "C:\\Users\\전승표\\AppData\\Roaming\\Python\\Python38\\site-packages\\sklearn\\metrics\\_classification.py:1471: UndefinedMetricWarning: Precision and F-score are ill-defined and being set to 0.0 in labels with no predicted samples. Use `zero_division` parameter to control this behavior.\n",
      "  _warn_prf(average, modifier, msg_start, len(result))\n"
     ]
    },
    {
     "name": "stdout",
     "output_type": "stream",
     "text": [
      "\n",
      "Epoch [2/30], Train Loss: 1.9233, Train Accuracy: 0.23, Train f1-score: 0.17 Val Loss: 1.8517, Val Accuracy: 0.11, Val f1-score: 0.04\n",
      "\n"
     ]
    },
    {
     "name": "stderr",
     "output_type": "stream",
     "text": [
      "Epoch 3/30 - Training: 100%|██████████| 5709/5709 [08:46<00:00, 10.83it/s]\n",
      "Epoch 3/30 - Validation: 100%|██████████| 1420/1420 [00:48<00:00, 29.09it/s]\n",
      "C:\\Users\\전승표\\AppData\\Roaming\\Python\\Python38\\site-packages\\sklearn\\metrics\\_classification.py:1471: UndefinedMetricWarning: Precision and F-score are ill-defined and being set to 0.0 in labels with no predicted samples. Use `zero_division` parameter to control this behavior.\n",
      "  _warn_prf(average, modifier, msg_start, len(result))\n",
      "C:\\Users\\전승표\\AppData\\Roaming\\Python\\Python38\\site-packages\\sklearn\\metrics\\_classification.py:1471: UndefinedMetricWarning: Precision and F-score are ill-defined and being set to 0.0 in labels with no predicted samples. Use `zero_division` parameter to control this behavior.\n",
      "  _warn_prf(average, modifier, msg_start, len(result))\n",
      "C:\\Users\\전승표\\AppData\\Roaming\\Python\\Python38\\site-packages\\sklearn\\metrics\\_classification.py:1471: UndefinedMetricWarning: Precision and F-score are ill-defined and being set to 0.0 in labels with no predicted samples. Use `zero_division` parameter to control this behavior.\n",
      "  _warn_prf(average, modifier, msg_start, len(result))\n"
     ]
    },
    {
     "name": "stdout",
     "output_type": "stream",
     "text": [
      "\n",
      "Epoch [3/30], Train Loss: 1.8150, Train Accuracy: 0.25, Train f1-score: 0.17 Val Loss: 1.8438, Val Accuracy: 0.13, Val f1-score: 0.07\n",
      "\n"
     ]
    },
    {
     "name": "stderr",
     "output_type": "stream",
     "text": [
      "Epoch 4/30 - Training: 100%|██████████| 5709/5709 [08:15<00:00, 11.51it/s]\n",
      "Epoch 4/30 - Validation: 100%|██████████| 1420/1420 [01:01<00:00, 22.97it/s]\n",
      "C:\\Users\\전승표\\AppData\\Roaming\\Python\\Python38\\site-packages\\sklearn\\metrics\\_classification.py:1471: UndefinedMetricWarning: Precision and F-score are ill-defined and being set to 0.0 in labels with no predicted samples. Use `zero_division` parameter to control this behavior.\n",
      "  _warn_prf(average, modifier, msg_start, len(result))\n",
      "C:\\Users\\전승표\\AppData\\Roaming\\Python\\Python38\\site-packages\\sklearn\\metrics\\_classification.py:1471: UndefinedMetricWarning: Precision and F-score are ill-defined and being set to 0.0 in labels with no predicted samples. Use `zero_division` parameter to control this behavior.\n",
      "  _warn_prf(average, modifier, msg_start, len(result))\n",
      "C:\\Users\\전승표\\AppData\\Roaming\\Python\\Python38\\site-packages\\sklearn\\metrics\\_classification.py:1471: UndefinedMetricWarning: Precision and F-score are ill-defined and being set to 0.0 in labels with no predicted samples. Use `zero_division` parameter to control this behavior.\n",
      "  _warn_prf(average, modifier, msg_start, len(result))\n"
     ]
    },
    {
     "name": "stdout",
     "output_type": "stream",
     "text": [
      "\n",
      "Epoch [4/30], Train Loss: 1.7108, Train Accuracy: 0.28, Train f1-score: 0.20 Val Loss: 1.7145, Val Accuracy: 0.23, Val f1-score: 0.15\n",
      "\n"
     ]
    },
    {
     "name": "stderr",
     "output_type": "stream",
     "text": [
      "Epoch 5/30 - Training: 100%|██████████| 5709/5709 [07:26<00:00, 12.80it/s]\n",
      "Epoch 5/30 - Validation: 100%|██████████| 1420/1420 [00:33<00:00, 42.08it/s]\n",
      "C:\\Users\\전승표\\AppData\\Roaming\\Python\\Python38\\site-packages\\sklearn\\metrics\\_classification.py:1471: UndefinedMetricWarning: Precision and F-score are ill-defined and being set to 0.0 in labels with no predicted samples. Use `zero_division` parameter to control this behavior.\n",
      "  _warn_prf(average, modifier, msg_start, len(result))\n",
      "C:\\Users\\전승표\\AppData\\Roaming\\Python\\Python38\\site-packages\\sklearn\\metrics\\_classification.py:1471: UndefinedMetricWarning: Precision and F-score are ill-defined and being set to 0.0 in labels with no predicted samples. Use `zero_division` parameter to control this behavior.\n",
      "  _warn_prf(average, modifier, msg_start, len(result))\n",
      "C:\\Users\\전승표\\AppData\\Roaming\\Python\\Python38\\site-packages\\sklearn\\metrics\\_classification.py:1471: UndefinedMetricWarning: Precision and F-score are ill-defined and being set to 0.0 in labels with no predicted samples. Use `zero_division` parameter to control this behavior.\n",
      "  _warn_prf(average, modifier, msg_start, len(result))\n"
     ]
    },
    {
     "name": "stdout",
     "output_type": "stream",
     "text": [
      "\n",
      "Epoch [5/30], Train Loss: 1.6325, Train Accuracy: 0.30, Train f1-score: 0.22 Val Loss: 1.6577, Val Accuracy: 0.28, Val f1-score: 0.18\n",
      "\n"
     ]
    },
    {
     "name": "stderr",
     "output_type": "stream",
     "text": [
      "Epoch 6/30 - Training: 100%|██████████| 5709/5709 [05:47<00:00, 16.41it/s]  \n",
      "Epoch 6/30 - Validation: 100%|██████████| 1420/1420 [00:22<00:00, 63.61it/s]\n",
      "C:\\Users\\전승표\\AppData\\Roaming\\Python\\Python38\\site-packages\\sklearn\\metrics\\_classification.py:1471: UndefinedMetricWarning: Precision and F-score are ill-defined and being set to 0.0 in labels with no predicted samples. Use `zero_division` parameter to control this behavior.\n",
      "  _warn_prf(average, modifier, msg_start, len(result))\n",
      "C:\\Users\\전승표\\AppData\\Roaming\\Python\\Python38\\site-packages\\sklearn\\metrics\\_classification.py:1471: UndefinedMetricWarning: Precision and F-score are ill-defined and being set to 0.0 in labels with no predicted samples. Use `zero_division` parameter to control this behavior.\n",
      "  _warn_prf(average, modifier, msg_start, len(result))\n",
      "C:\\Users\\전승표\\AppData\\Roaming\\Python\\Python38\\site-packages\\sklearn\\metrics\\_classification.py:1471: UndefinedMetricWarning: Precision and F-score are ill-defined and being set to 0.0 in labels with no predicted samples. Use `zero_division` parameter to control this behavior.\n",
      "  _warn_prf(average, modifier, msg_start, len(result))\n"
     ]
    },
    {
     "name": "stdout",
     "output_type": "stream",
     "text": [
      "\n",
      "Epoch [6/30], Train Loss: 1.6079, Train Accuracy: 0.31, Train f1-score: 0.22 Val Loss: 1.6113, Val Accuracy: 0.33, Val f1-score: 0.23\n",
      "\n"
     ]
    },
    {
     "name": "stderr",
     "output_type": "stream",
     "text": [
      "Epoch 7/30 - Training: 100%|██████████| 5709/5709 [03:21<00:00, 28.29it/s]\n",
      "Epoch 7/30 - Validation: 100%|██████████| 1420/1420 [00:22<00:00, 64.08it/s]\n",
      "C:\\Users\\전승표\\AppData\\Roaming\\Python\\Python38\\site-packages\\sklearn\\metrics\\_classification.py:1471: UndefinedMetricWarning: Precision and F-score are ill-defined and being set to 0.0 in labels with no predicted samples. Use `zero_division` parameter to control this behavior.\n",
      "  _warn_prf(average, modifier, msg_start, len(result))\n",
      "C:\\Users\\전승표\\AppData\\Roaming\\Python\\Python38\\site-packages\\sklearn\\metrics\\_classification.py:1471: UndefinedMetricWarning: Precision and F-score are ill-defined and being set to 0.0 in labels with no predicted samples. Use `zero_division` parameter to control this behavior.\n",
      "  _warn_prf(average, modifier, msg_start, len(result))\n",
      "C:\\Users\\전승표\\AppData\\Roaming\\Python\\Python38\\site-packages\\sklearn\\metrics\\_classification.py:1471: UndefinedMetricWarning: Precision and F-score are ill-defined and being set to 0.0 in labels with no predicted samples. Use `zero_division` parameter to control this behavior.\n",
      "  _warn_prf(average, modifier, msg_start, len(result))\n"
     ]
    },
    {
     "name": "stdout",
     "output_type": "stream",
     "text": [
      "\n",
      "Epoch [7/30], Train Loss: 1.5840, Train Accuracy: 0.33, Train f1-score: 0.24 Val Loss: 1.5980, Val Accuracy: 0.33, Val f1-score: 0.24\n",
      "\n"
     ]
    },
    {
     "name": "stderr",
     "output_type": "stream",
     "text": [
      "Epoch 8/30 - Training: 100%|██████████| 5709/5709 [03:24<00:00, 27.92it/s]\n",
      "Epoch 8/30 - Validation: 100%|██████████| 1420/1420 [00:24<00:00, 58.03it/s]\n",
      "C:\\Users\\전승표\\AppData\\Roaming\\Python\\Python38\\site-packages\\sklearn\\metrics\\_classification.py:1471: UndefinedMetricWarning: Precision and F-score are ill-defined and being set to 0.0 in labels with no predicted samples. Use `zero_division` parameter to control this behavior.\n",
      "  _warn_prf(average, modifier, msg_start, len(result))\n",
      "C:\\Users\\전승표\\AppData\\Roaming\\Python\\Python38\\site-packages\\sklearn\\metrics\\_classification.py:1471: UndefinedMetricWarning: Precision and F-score are ill-defined and being set to 0.0 in labels with no predicted samples. Use `zero_division` parameter to control this behavior.\n",
      "  _warn_prf(average, modifier, msg_start, len(result))\n",
      "C:\\Users\\전승표\\AppData\\Roaming\\Python\\Python38\\site-packages\\sklearn\\metrics\\_classification.py:1471: UndefinedMetricWarning: Precision and F-score are ill-defined and being set to 0.0 in labels with no predicted samples. Use `zero_division` parameter to control this behavior.\n",
      "  _warn_prf(average, modifier, msg_start, len(result))\n"
     ]
    },
    {
     "name": "stdout",
     "output_type": "stream",
     "text": [
      "\n",
      "Epoch [8/30], Train Loss: 1.5703, Train Accuracy: 0.34, Train f1-score: 0.25 Val Loss: 1.5784, Val Accuracy: 0.33, Val f1-score: 0.24\n",
      "\n"
     ]
    },
    {
     "name": "stderr",
     "output_type": "stream",
     "text": [
      "Epoch 9/30 - Training: 100%|██████████| 5709/5709 [03:29<00:00, 27.19it/s]\n",
      "Epoch 9/30 - Validation: 100%|██████████| 1420/1420 [00:23<00:00, 61.00it/s]\n",
      "C:\\Users\\전승표\\AppData\\Roaming\\Python\\Python38\\site-packages\\sklearn\\metrics\\_classification.py:1471: UndefinedMetricWarning: Precision and F-score are ill-defined and being set to 0.0 in labels with no predicted samples. Use `zero_division` parameter to control this behavior.\n",
      "  _warn_prf(average, modifier, msg_start, len(result))\n",
      "C:\\Users\\전승표\\AppData\\Roaming\\Python\\Python38\\site-packages\\sklearn\\metrics\\_classification.py:1471: UndefinedMetricWarning: Precision and F-score are ill-defined and being set to 0.0 in labels with no predicted samples. Use `zero_division` parameter to control this behavior.\n",
      "  _warn_prf(average, modifier, msg_start, len(result))\n",
      "C:\\Users\\전승표\\AppData\\Roaming\\Python\\Python38\\site-packages\\sklearn\\metrics\\_classification.py:1471: UndefinedMetricWarning: Precision and F-score are ill-defined and being set to 0.0 in labels with no predicted samples. Use `zero_division` parameter to control this behavior.\n",
      "  _warn_prf(average, modifier, msg_start, len(result))\n"
     ]
    },
    {
     "name": "stdout",
     "output_type": "stream",
     "text": [
      "\n",
      "Epoch [9/30], Train Loss: 1.5640, Train Accuracy: 0.34, Train f1-score: 0.25 Val Loss: 1.5686, Val Accuracy: 0.33, Val f1-score: 0.25\n",
      "\n"
     ]
    },
    {
     "name": "stderr",
     "output_type": "stream",
     "text": [
      "Epoch 10/30 - Training: 100%|██████████| 5709/5709 [03:29<00:00, 27.31it/s]\n",
      "Epoch 10/30 - Validation: 100%|██████████| 1420/1420 [00:24<00:00, 59.08it/s]\n",
      "C:\\Users\\전승표\\AppData\\Roaming\\Python\\Python38\\site-packages\\sklearn\\metrics\\_classification.py:1471: UndefinedMetricWarning: Precision and F-score are ill-defined and being set to 0.0 in labels with no predicted samples. Use `zero_division` parameter to control this behavior.\n",
      "  _warn_prf(average, modifier, msg_start, len(result))\n",
      "C:\\Users\\전승표\\AppData\\Roaming\\Python\\Python38\\site-packages\\sklearn\\metrics\\_classification.py:1471: UndefinedMetricWarning: Precision and F-score are ill-defined and being set to 0.0 in labels with no predicted samples. Use `zero_division` parameter to control this behavior.\n",
      "  _warn_prf(average, modifier, msg_start, len(result))\n",
      "C:\\Users\\전승표\\AppData\\Roaming\\Python\\Python38\\site-packages\\sklearn\\metrics\\_classification.py:1471: UndefinedMetricWarning: Precision and F-score are ill-defined and being set to 0.0 in labels with no predicted samples. Use `zero_division` parameter to control this behavior.\n",
      "  _warn_prf(average, modifier, msg_start, len(result))\n"
     ]
    },
    {
     "name": "stdout",
     "output_type": "stream",
     "text": [
      "\n",
      "Epoch [10/30], Train Loss: 1.5604, Train Accuracy: 0.35, Train f1-score: 0.25 Val Loss: 1.5770, Val Accuracy: 0.33, Val f1-score: 0.25\n",
      "\n"
     ]
    },
    {
     "name": "stderr",
     "output_type": "stream",
     "text": [
      "Epoch 11/30 - Training: 100%|██████████| 5709/5709 [03:31<00:00, 26.93it/s]\n",
      "Epoch 11/30 - Validation: 100%|██████████| 1420/1420 [00:24<00:00, 58.60it/s]\n",
      "C:\\Users\\전승표\\AppData\\Roaming\\Python\\Python38\\site-packages\\sklearn\\metrics\\_classification.py:1471: UndefinedMetricWarning: Precision and F-score are ill-defined and being set to 0.0 in labels with no predicted samples. Use `zero_division` parameter to control this behavior.\n",
      "  _warn_prf(average, modifier, msg_start, len(result))\n",
      "C:\\Users\\전승표\\AppData\\Roaming\\Python\\Python38\\site-packages\\sklearn\\metrics\\_classification.py:1471: UndefinedMetricWarning: Precision and F-score are ill-defined and being set to 0.0 in labels with no predicted samples. Use `zero_division` parameter to control this behavior.\n",
      "  _warn_prf(average, modifier, msg_start, len(result))\n",
      "C:\\Users\\전승표\\AppData\\Roaming\\Python\\Python38\\site-packages\\sklearn\\metrics\\_classification.py:1471: UndefinedMetricWarning: Precision and F-score are ill-defined and being set to 0.0 in labels with no predicted samples. Use `zero_division` parameter to control this behavior.\n",
      "  _warn_prf(average, modifier, msg_start, len(result))\n"
     ]
    },
    {
     "name": "stdout",
     "output_type": "stream",
     "text": [
      "\n",
      "Epoch [11/30], Train Loss: 1.5577, Train Accuracy: 0.35, Train f1-score: 0.25 Val Loss: 1.5598, Val Accuracy: 0.34, Val f1-score: 0.25\n",
      "\n"
     ]
    },
    {
     "name": "stderr",
     "output_type": "stream",
     "text": [
      "Epoch 12/30 - Training: 100%|██████████| 5709/5709 [03:28<00:00, 27.40it/s]\n",
      "Epoch 12/30 - Validation: 100%|██████████| 1420/1420 [00:23<00:00, 60.15it/s]\n",
      "C:\\Users\\전승표\\AppData\\Roaming\\Python\\Python38\\site-packages\\sklearn\\metrics\\_classification.py:1471: UndefinedMetricWarning: Precision and F-score are ill-defined and being set to 0.0 in labels with no predicted samples. Use `zero_division` parameter to control this behavior.\n",
      "  _warn_prf(average, modifier, msg_start, len(result))\n",
      "C:\\Users\\전승표\\AppData\\Roaming\\Python\\Python38\\site-packages\\sklearn\\metrics\\_classification.py:1471: UndefinedMetricWarning: Precision and F-score are ill-defined and being set to 0.0 in labels with no predicted samples. Use `zero_division` parameter to control this behavior.\n",
      "  _warn_prf(average, modifier, msg_start, len(result))\n",
      "C:\\Users\\전승표\\AppData\\Roaming\\Python\\Python38\\site-packages\\sklearn\\metrics\\_classification.py:1471: UndefinedMetricWarning: Precision and F-score are ill-defined and being set to 0.0 in labels with no predicted samples. Use `zero_division` parameter to control this behavior.\n",
      "  _warn_prf(average, modifier, msg_start, len(result))\n"
     ]
    },
    {
     "name": "stdout",
     "output_type": "stream",
     "text": [
      "\n",
      "Epoch [12/30], Train Loss: 1.5550, Train Accuracy: 0.35, Train f1-score: 0.26 Val Loss: 1.5696, Val Accuracy: 0.34, Val f1-score: 0.25\n",
      "\n"
     ]
    },
    {
     "name": "stderr",
     "output_type": "stream",
     "text": [
      "Epoch 13/30 - Training: 100%|██████████| 5709/5709 [03:29<00:00, 27.31it/s]\n",
      "Epoch 13/30 - Validation: 100%|██████████| 1420/1420 [00:23<00:00, 60.65it/s]\n",
      "C:\\Users\\전승표\\AppData\\Roaming\\Python\\Python38\\site-packages\\sklearn\\metrics\\_classification.py:1471: UndefinedMetricWarning: Precision and F-score are ill-defined and being set to 0.0 in labels with no predicted samples. Use `zero_division` parameter to control this behavior.\n",
      "  _warn_prf(average, modifier, msg_start, len(result))\n",
      "C:\\Users\\전승표\\AppData\\Roaming\\Python\\Python38\\site-packages\\sklearn\\metrics\\_classification.py:1471: UndefinedMetricWarning: Precision and F-score are ill-defined and being set to 0.0 in labels with no predicted samples. Use `zero_division` parameter to control this behavior.\n",
      "  _warn_prf(average, modifier, msg_start, len(result))\n",
      "C:\\Users\\전승표\\AppData\\Roaming\\Python\\Python38\\site-packages\\sklearn\\metrics\\_classification.py:1471: UndefinedMetricWarning: Precision and F-score are ill-defined and being set to 0.0 in labels with no predicted samples. Use `zero_division` parameter to control this behavior.\n",
      "  _warn_prf(average, modifier, msg_start, len(result))\n"
     ]
    },
    {
     "name": "stdout",
     "output_type": "stream",
     "text": [
      "\n",
      "Epoch [13/30], Train Loss: 1.5529, Train Accuracy: 0.35, Train f1-score: 0.26 Val Loss: 1.5611, Val Accuracy: 0.34, Val f1-score: 0.25\n",
      "\n"
     ]
    },
    {
     "name": "stderr",
     "output_type": "stream",
     "text": [
      "Epoch 14/30 - Training: 100%|██████████| 5709/5709 [03:31<00:00, 26.96it/s]\n",
      "Epoch 14/30 - Validation: 100%|██████████| 1420/1420 [00:22<00:00, 62.04it/s]\n",
      "C:\\Users\\전승표\\AppData\\Roaming\\Python\\Python38\\site-packages\\sklearn\\metrics\\_classification.py:1471: UndefinedMetricWarning: Precision and F-score are ill-defined and being set to 0.0 in labels with no predicted samples. Use `zero_division` parameter to control this behavior.\n",
      "  _warn_prf(average, modifier, msg_start, len(result))\n",
      "C:\\Users\\전승표\\AppData\\Roaming\\Python\\Python38\\site-packages\\sklearn\\metrics\\_classification.py:1471: UndefinedMetricWarning: Precision and F-score are ill-defined and being set to 0.0 in labels with no predicted samples. Use `zero_division` parameter to control this behavior.\n",
      "  _warn_prf(average, modifier, msg_start, len(result))\n",
      "C:\\Users\\전승표\\AppData\\Roaming\\Python\\Python38\\site-packages\\sklearn\\metrics\\_classification.py:1471: UndefinedMetricWarning: Precision and F-score are ill-defined and being set to 0.0 in labels with no predicted samples. Use `zero_division` parameter to control this behavior.\n",
      "  _warn_prf(average, modifier, msg_start, len(result))\n"
     ]
    },
    {
     "name": "stdout",
     "output_type": "stream",
     "text": [
      "\n",
      "Epoch [14/30], Train Loss: 1.5525, Train Accuracy: 0.35, Train f1-score: 0.26 Val Loss: 1.5647, Val Accuracy: 0.34, Val f1-score: 0.25\n",
      "\n"
     ]
    },
    {
     "name": "stderr",
     "output_type": "stream",
     "text": [
      "Epoch 15/30 - Training: 100%|██████████| 5709/5709 [03:32<00:00, 26.88it/s]\n",
      "Epoch 15/30 - Validation: 100%|██████████| 1420/1420 [00:23<00:00, 59.74it/s]\n",
      "C:\\Users\\전승표\\AppData\\Roaming\\Python\\Python38\\site-packages\\sklearn\\metrics\\_classification.py:1471: UndefinedMetricWarning: Precision and F-score are ill-defined and being set to 0.0 in labels with no predicted samples. Use `zero_division` parameter to control this behavior.\n",
      "  _warn_prf(average, modifier, msg_start, len(result))\n",
      "C:\\Users\\전승표\\AppData\\Roaming\\Python\\Python38\\site-packages\\sklearn\\metrics\\_classification.py:1471: UndefinedMetricWarning: Precision and F-score are ill-defined and being set to 0.0 in labels with no predicted samples. Use `zero_division` parameter to control this behavior.\n",
      "  _warn_prf(average, modifier, msg_start, len(result))\n",
      "C:\\Users\\전승표\\AppData\\Roaming\\Python\\Python38\\site-packages\\sklearn\\metrics\\_classification.py:1471: UndefinedMetricWarning: Precision and F-score are ill-defined and being set to 0.0 in labels with no predicted samples. Use `zero_division` parameter to control this behavior.\n",
      "  _warn_prf(average, modifier, msg_start, len(result))\n"
     ]
    },
    {
     "name": "stdout",
     "output_type": "stream",
     "text": [
      "\n",
      "Epoch [15/30], Train Loss: 1.5492, Train Accuracy: 0.35, Train f1-score: 0.26 Val Loss: 1.5513, Val Accuracy: 0.34, Val f1-score: 0.25\n",
      "\n"
     ]
    },
    {
     "name": "stderr",
     "output_type": "stream",
     "text": [
      "Epoch 16/30 - Training: 100%|██████████| 5709/5709 [03:29<00:00, 27.24it/s]\n",
      "Epoch 16/30 - Validation: 100%|██████████| 1420/1420 [00:23<00:00, 61.60it/s]\n",
      "C:\\Users\\전승표\\AppData\\Roaming\\Python\\Python38\\site-packages\\sklearn\\metrics\\_classification.py:1471: UndefinedMetricWarning: Precision and F-score are ill-defined and being set to 0.0 in labels with no predicted samples. Use `zero_division` parameter to control this behavior.\n",
      "  _warn_prf(average, modifier, msg_start, len(result))\n",
      "C:\\Users\\전승표\\AppData\\Roaming\\Python\\Python38\\site-packages\\sklearn\\metrics\\_classification.py:1471: UndefinedMetricWarning: Precision and F-score are ill-defined and being set to 0.0 in labels with no predicted samples. Use `zero_division` parameter to control this behavior.\n",
      "  _warn_prf(average, modifier, msg_start, len(result))\n",
      "C:\\Users\\전승표\\AppData\\Roaming\\Python\\Python38\\site-packages\\sklearn\\metrics\\_classification.py:1471: UndefinedMetricWarning: Precision and F-score are ill-defined and being set to 0.0 in labels with no predicted samples. Use `zero_division` parameter to control this behavior.\n",
      "  _warn_prf(average, modifier, msg_start, len(result))\n"
     ]
    },
    {
     "name": "stdout",
     "output_type": "stream",
     "text": [
      "\n",
      "Epoch [16/30], Train Loss: 1.5488, Train Accuracy: 0.35, Train f1-score: 0.26 Val Loss: 1.5467, Val Accuracy: 0.34, Val f1-score: 0.25\n",
      "\n"
     ]
    },
    {
     "name": "stderr",
     "output_type": "stream",
     "text": [
      "Epoch 17/30 - Training: 100%|██████████| 5709/5709 [03:27<00:00, 27.49it/s]\n",
      "Epoch 17/30 - Validation: 100%|██████████| 1420/1420 [00:27<00:00, 52.06it/s]\n",
      "C:\\Users\\전승표\\AppData\\Roaming\\Python\\Python38\\site-packages\\sklearn\\metrics\\_classification.py:1471: UndefinedMetricWarning: Precision and F-score are ill-defined and being set to 0.0 in labels with no predicted samples. Use `zero_division` parameter to control this behavior.\n",
      "  _warn_prf(average, modifier, msg_start, len(result))\n",
      "C:\\Users\\전승표\\AppData\\Roaming\\Python\\Python38\\site-packages\\sklearn\\metrics\\_classification.py:1471: UndefinedMetricWarning: Precision and F-score are ill-defined and being set to 0.0 in labels with no predicted samples. Use `zero_division` parameter to control this behavior.\n",
      "  _warn_prf(average, modifier, msg_start, len(result))\n",
      "C:\\Users\\전승표\\AppData\\Roaming\\Python\\Python38\\site-packages\\sklearn\\metrics\\_classification.py:1471: UndefinedMetricWarning: Precision and F-score are ill-defined and being set to 0.0 in labels with no predicted samples. Use `zero_division` parameter to control this behavior.\n",
      "  _warn_prf(average, modifier, msg_start, len(result))\n"
     ]
    },
    {
     "name": "stdout",
     "output_type": "stream",
     "text": [
      "\n",
      "Epoch [17/30], Train Loss: 1.5465, Train Accuracy: 0.35, Train f1-score: 0.26 Val Loss: 1.5539, Val Accuracy: 0.35, Val f1-score: 0.26\n",
      "\n"
     ]
    },
    {
     "name": "stderr",
     "output_type": "stream",
     "text": [
      "Epoch 18/30 - Training: 100%|██████████| 5709/5709 [03:37<00:00, 26.25it/s]\n",
      "Epoch 18/30 - Validation: 100%|██████████| 1420/1420 [00:23<00:00, 61.18it/s]\n",
      "C:\\Users\\전승표\\AppData\\Roaming\\Python\\Python38\\site-packages\\sklearn\\metrics\\_classification.py:1471: UndefinedMetricWarning: Precision and F-score are ill-defined and being set to 0.0 in labels with no predicted samples. Use `zero_division` parameter to control this behavior.\n",
      "  _warn_prf(average, modifier, msg_start, len(result))\n",
      "C:\\Users\\전승표\\AppData\\Roaming\\Python\\Python38\\site-packages\\sklearn\\metrics\\_classification.py:1471: UndefinedMetricWarning: Precision and F-score are ill-defined and being set to 0.0 in labels with no predicted samples. Use `zero_division` parameter to control this behavior.\n",
      "  _warn_prf(average, modifier, msg_start, len(result))\n",
      "C:\\Users\\전승표\\AppData\\Roaming\\Python\\Python38\\site-packages\\sklearn\\metrics\\_classification.py:1471: UndefinedMetricWarning: Precision and F-score are ill-defined and being set to 0.0 in labels with no predicted samples. Use `zero_division` parameter to control this behavior.\n",
      "  _warn_prf(average, modifier, msg_start, len(result))\n"
     ]
    },
    {
     "name": "stdout",
     "output_type": "stream",
     "text": [
      "\n",
      "Epoch [18/30], Train Loss: 1.5464, Train Accuracy: 0.35, Train f1-score: 0.26 Val Loss: 1.5498, Val Accuracy: 0.34, Val f1-score: 0.25\n",
      "\n"
     ]
    },
    {
     "name": "stderr",
     "output_type": "stream",
     "text": [
      "Epoch 19/30 - Training: 100%|██████████| 5709/5709 [03:24<00:00, 27.90it/s]\n",
      "Epoch 19/30 - Validation: 100%|██████████| 1420/1420 [00:22<00:00, 62.44it/s]\n",
      "C:\\Users\\전승표\\AppData\\Roaming\\Python\\Python38\\site-packages\\sklearn\\metrics\\_classification.py:1471: UndefinedMetricWarning: Precision and F-score are ill-defined and being set to 0.0 in labels with no predicted samples. Use `zero_division` parameter to control this behavior.\n",
      "  _warn_prf(average, modifier, msg_start, len(result))\n",
      "C:\\Users\\전승표\\AppData\\Roaming\\Python\\Python38\\site-packages\\sklearn\\metrics\\_classification.py:1471: UndefinedMetricWarning: Precision and F-score are ill-defined and being set to 0.0 in labels with no predicted samples. Use `zero_division` parameter to control this behavior.\n",
      "  _warn_prf(average, modifier, msg_start, len(result))\n",
      "C:\\Users\\전승표\\AppData\\Roaming\\Python\\Python38\\site-packages\\sklearn\\metrics\\_classification.py:1471: UndefinedMetricWarning: Precision and F-score are ill-defined and being set to 0.0 in labels with no predicted samples. Use `zero_division` parameter to control this behavior.\n",
      "  _warn_prf(average, modifier, msg_start, len(result))\n"
     ]
    },
    {
     "name": "stdout",
     "output_type": "stream",
     "text": [
      "\n",
      "Epoch [19/30], Train Loss: 1.5459, Train Accuracy: 0.35, Train f1-score: 0.26 Val Loss: 1.5645, Val Accuracy: 0.34, Val f1-score: 0.25\n",
      "\n"
     ]
    },
    {
     "name": "stderr",
     "output_type": "stream",
     "text": [
      "Epoch 20/30 - Training: 100%|██████████| 5709/5709 [03:18<00:00, 28.77it/s]\n",
      "Epoch 20/30 - Validation: 100%|██████████| 1420/1420 [00:23<00:00, 60.28it/s]\n",
      "C:\\Users\\전승표\\AppData\\Roaming\\Python\\Python38\\site-packages\\sklearn\\metrics\\_classification.py:1471: UndefinedMetricWarning: Precision and F-score are ill-defined and being set to 0.0 in labels with no predicted samples. Use `zero_division` parameter to control this behavior.\n",
      "  _warn_prf(average, modifier, msg_start, len(result))\n",
      "C:\\Users\\전승표\\AppData\\Roaming\\Python\\Python38\\site-packages\\sklearn\\metrics\\_classification.py:1471: UndefinedMetricWarning: Precision and F-score are ill-defined and being set to 0.0 in labels with no predicted samples. Use `zero_division` parameter to control this behavior.\n",
      "  _warn_prf(average, modifier, msg_start, len(result))\n",
      "C:\\Users\\전승표\\AppData\\Roaming\\Python\\Python38\\site-packages\\sklearn\\metrics\\_classification.py:1471: UndefinedMetricWarning: Precision and F-score are ill-defined and being set to 0.0 in labels with no predicted samples. Use `zero_division` parameter to control this behavior.\n",
      "  _warn_prf(average, modifier, msg_start, len(result))\n"
     ]
    },
    {
     "name": "stdout",
     "output_type": "stream",
     "text": [
      "\n",
      "Epoch [20/30], Train Loss: 1.5457, Train Accuracy: 0.35, Train f1-score: 0.26 Val Loss: 1.5500, Val Accuracy: 0.34, Val f1-score: 0.25\n",
      "\n"
     ]
    },
    {
     "name": "stderr",
     "output_type": "stream",
     "text": [
      "Epoch 21/30 - Training: 100%|██████████| 5709/5709 [03:18<00:00, 28.69it/s]\n",
      "Epoch 21/30 - Validation: 100%|██████████| 1420/1420 [00:22<00:00, 64.21it/s]\n",
      "C:\\Users\\전승표\\AppData\\Roaming\\Python\\Python38\\site-packages\\sklearn\\metrics\\_classification.py:1471: UndefinedMetricWarning: Precision and F-score are ill-defined and being set to 0.0 in labels with no predicted samples. Use `zero_division` parameter to control this behavior.\n",
      "  _warn_prf(average, modifier, msg_start, len(result))\n",
      "C:\\Users\\전승표\\AppData\\Roaming\\Python\\Python38\\site-packages\\sklearn\\metrics\\_classification.py:1471: UndefinedMetricWarning: Precision and F-score are ill-defined and being set to 0.0 in labels with no predicted samples. Use `zero_division` parameter to control this behavior.\n",
      "  _warn_prf(average, modifier, msg_start, len(result))\n",
      "C:\\Users\\전승표\\AppData\\Roaming\\Python\\Python38\\site-packages\\sklearn\\metrics\\_classification.py:1471: UndefinedMetricWarning: Precision and F-score are ill-defined and being set to 0.0 in labels with no predicted samples. Use `zero_division` parameter to control this behavior.\n",
      "  _warn_prf(average, modifier, msg_start, len(result))\n"
     ]
    },
    {
     "name": "stdout",
     "output_type": "stream",
     "text": [
      "\n",
      "Epoch [21/30], Train Loss: 1.5440, Train Accuracy: 0.35, Train f1-score: 0.26 Val Loss: 1.5611, Val Accuracy: 0.35, Val f1-score: 0.26\n",
      "\n"
     ]
    },
    {
     "name": "stderr",
     "output_type": "stream",
     "text": [
      "Epoch 22/30 - Training: 100%|██████████| 5709/5709 [03:20<00:00, 28.50it/s]\n",
      "Epoch 22/30 - Validation: 100%|██████████| 1420/1420 [00:21<00:00, 64.65it/s]\n",
      "C:\\Users\\전승표\\AppData\\Roaming\\Python\\Python38\\site-packages\\sklearn\\metrics\\_classification.py:1471: UndefinedMetricWarning: Precision and F-score are ill-defined and being set to 0.0 in labels with no predicted samples. Use `zero_division` parameter to control this behavior.\n",
      "  _warn_prf(average, modifier, msg_start, len(result))\n",
      "C:\\Users\\전승표\\AppData\\Roaming\\Python\\Python38\\site-packages\\sklearn\\metrics\\_classification.py:1471: UndefinedMetricWarning: Precision and F-score are ill-defined and being set to 0.0 in labels with no predicted samples. Use `zero_division` parameter to control this behavior.\n",
      "  _warn_prf(average, modifier, msg_start, len(result))\n",
      "C:\\Users\\전승표\\AppData\\Roaming\\Python\\Python38\\site-packages\\sklearn\\metrics\\_classification.py:1471: UndefinedMetricWarning: Precision and F-score are ill-defined and being set to 0.0 in labels with no predicted samples. Use `zero_division` parameter to control this behavior.\n",
      "  _warn_prf(average, modifier, msg_start, len(result))\n"
     ]
    },
    {
     "name": "stdout",
     "output_type": "stream",
     "text": [
      "\n",
      "Epoch [22/30], Train Loss: 1.5423, Train Accuracy: 0.35, Train f1-score: 0.26 Val Loss: 1.5563, Val Accuracy: 0.34, Val f1-score: 0.25\n",
      "\n"
     ]
    },
    {
     "name": "stderr",
     "output_type": "stream",
     "text": [
      "Epoch 23/30 - Training: 100%|██████████| 5709/5709 [03:20<00:00, 28.52it/s]\n",
      "Epoch 23/30 - Validation: 100%|██████████| 1420/1420 [00:21<00:00, 64.85it/s]\n",
      "C:\\Users\\전승표\\AppData\\Roaming\\Python\\Python38\\site-packages\\sklearn\\metrics\\_classification.py:1471: UndefinedMetricWarning: Precision and F-score are ill-defined and being set to 0.0 in labels with no predicted samples. Use `zero_division` parameter to control this behavior.\n",
      "  _warn_prf(average, modifier, msg_start, len(result))\n",
      "C:\\Users\\전승표\\AppData\\Roaming\\Python\\Python38\\site-packages\\sklearn\\metrics\\_classification.py:1471: UndefinedMetricWarning: Precision and F-score are ill-defined and being set to 0.0 in labels with no predicted samples. Use `zero_division` parameter to control this behavior.\n",
      "  _warn_prf(average, modifier, msg_start, len(result))\n",
      "C:\\Users\\전승표\\AppData\\Roaming\\Python\\Python38\\site-packages\\sklearn\\metrics\\_classification.py:1471: UndefinedMetricWarning: Precision and F-score are ill-defined and being set to 0.0 in labels with no predicted samples. Use `zero_division` parameter to control this behavior.\n",
      "  _warn_prf(average, modifier, msg_start, len(result))\n"
     ]
    },
    {
     "name": "stdout",
     "output_type": "stream",
     "text": [
      "\n",
      "Epoch [23/30], Train Loss: 1.5428, Train Accuracy: 0.35, Train f1-score: 0.26 Val Loss: 1.5490, Val Accuracy: 0.34, Val f1-score: 0.25\n",
      "\n"
     ]
    },
    {
     "name": "stderr",
     "output_type": "stream",
     "text": [
      "Epoch 24/30 - Training: 100%|██████████| 5709/5709 [03:19<00:00, 28.65it/s]\n",
      "Epoch 24/30 - Validation: 100%|██████████| 1420/1420 [00:22<00:00, 63.91it/s]\n",
      "C:\\Users\\전승표\\AppData\\Roaming\\Python\\Python38\\site-packages\\sklearn\\metrics\\_classification.py:1471: UndefinedMetricWarning: Precision and F-score are ill-defined and being set to 0.0 in labels with no predicted samples. Use `zero_division` parameter to control this behavior.\n",
      "  _warn_prf(average, modifier, msg_start, len(result))\n",
      "C:\\Users\\전승표\\AppData\\Roaming\\Python\\Python38\\site-packages\\sklearn\\metrics\\_classification.py:1471: UndefinedMetricWarning: Precision and F-score are ill-defined and being set to 0.0 in labels with no predicted samples. Use `zero_division` parameter to control this behavior.\n",
      "  _warn_prf(average, modifier, msg_start, len(result))\n",
      "C:\\Users\\전승표\\AppData\\Roaming\\Python\\Python38\\site-packages\\sklearn\\metrics\\_classification.py:1471: UndefinedMetricWarning: Precision and F-score are ill-defined and being set to 0.0 in labels with no predicted samples. Use `zero_division` parameter to control this behavior.\n",
      "  _warn_prf(average, modifier, msg_start, len(result))\n"
     ]
    },
    {
     "name": "stdout",
     "output_type": "stream",
     "text": [
      "\n",
      "Epoch [24/30], Train Loss: 1.5428, Train Accuracy: 0.35, Train f1-score: 0.26 Val Loss: 1.5439, Val Accuracy: 0.34, Val f1-score: 0.25\n",
      "\n"
     ]
    },
    {
     "name": "stderr",
     "output_type": "stream",
     "text": [
      "Epoch 25/30 - Training: 100%|██████████| 5709/5709 [03:19<00:00, 28.60it/s]\n",
      "Epoch 25/30 - Validation: 100%|██████████| 1420/1420 [00:22<00:00, 64.52it/s]\n",
      "C:\\Users\\전승표\\AppData\\Roaming\\Python\\Python38\\site-packages\\sklearn\\metrics\\_classification.py:1471: UndefinedMetricWarning: Precision and F-score are ill-defined and being set to 0.0 in labels with no predicted samples. Use `zero_division` parameter to control this behavior.\n",
      "  _warn_prf(average, modifier, msg_start, len(result))\n",
      "C:\\Users\\전승표\\AppData\\Roaming\\Python\\Python38\\site-packages\\sklearn\\metrics\\_classification.py:1471: UndefinedMetricWarning: Precision and F-score are ill-defined and being set to 0.0 in labels with no predicted samples. Use `zero_division` parameter to control this behavior.\n",
      "  _warn_prf(average, modifier, msg_start, len(result))\n",
      "C:\\Users\\전승표\\AppData\\Roaming\\Python\\Python38\\site-packages\\sklearn\\metrics\\_classification.py:1471: UndefinedMetricWarning: Precision and F-score are ill-defined and being set to 0.0 in labels with no predicted samples. Use `zero_division` parameter to control this behavior.\n",
      "  _warn_prf(average, modifier, msg_start, len(result))\n"
     ]
    },
    {
     "name": "stdout",
     "output_type": "stream",
     "text": [
      "\n",
      "Epoch [25/30], Train Loss: 1.5420, Train Accuracy: 0.35, Train f1-score: 0.26 Val Loss: 1.5482, Val Accuracy: 0.34, Val f1-score: 0.25\n",
      "\n"
     ]
    },
    {
     "name": "stderr",
     "output_type": "stream",
     "text": [
      "Epoch 26/30 - Training: 100%|██████████| 5709/5709 [03:18<00:00, 28.72it/s]\n",
      "Epoch 26/30 - Validation: 100%|██████████| 1420/1420 [00:22<00:00, 63.01it/s]\n",
      "C:\\Users\\전승표\\AppData\\Roaming\\Python\\Python38\\site-packages\\sklearn\\metrics\\_classification.py:1471: UndefinedMetricWarning: Precision and F-score are ill-defined and being set to 0.0 in labels with no predicted samples. Use `zero_division` parameter to control this behavior.\n",
      "  _warn_prf(average, modifier, msg_start, len(result))\n",
      "C:\\Users\\전승표\\AppData\\Roaming\\Python\\Python38\\site-packages\\sklearn\\metrics\\_classification.py:1471: UndefinedMetricWarning: Precision and F-score are ill-defined and being set to 0.0 in labels with no predicted samples. Use `zero_division` parameter to control this behavior.\n",
      "  _warn_prf(average, modifier, msg_start, len(result))\n",
      "C:\\Users\\전승표\\AppData\\Roaming\\Python\\Python38\\site-packages\\sklearn\\metrics\\_classification.py:1471: UndefinedMetricWarning: Precision and F-score are ill-defined and being set to 0.0 in labels with no predicted samples. Use `zero_division` parameter to control this behavior.\n",
      "  _warn_prf(average, modifier, msg_start, len(result))\n"
     ]
    },
    {
     "name": "stdout",
     "output_type": "stream",
     "text": [
      "\n",
      "Epoch [26/30], Train Loss: 1.5418, Train Accuracy: 0.35, Train f1-score: 0.26 Val Loss: 1.5444, Val Accuracy: 0.34, Val f1-score: 0.25\n",
      "\n"
     ]
    },
    {
     "name": "stderr",
     "output_type": "stream",
     "text": [
      "Epoch 27/30 - Training: 100%|██████████| 5709/5709 [03:18<00:00, 28.82it/s]\n",
      "Epoch 27/30 - Validation: 100%|██████████| 1420/1420 [00:22<00:00, 63.32it/s]\n",
      "C:\\Users\\전승표\\AppData\\Roaming\\Python\\Python38\\site-packages\\sklearn\\metrics\\_classification.py:1471: UndefinedMetricWarning: Precision and F-score are ill-defined and being set to 0.0 in labels with no predicted samples. Use `zero_division` parameter to control this behavior.\n",
      "  _warn_prf(average, modifier, msg_start, len(result))\n",
      "C:\\Users\\전승표\\AppData\\Roaming\\Python\\Python38\\site-packages\\sklearn\\metrics\\_classification.py:1471: UndefinedMetricWarning: Precision and F-score are ill-defined and being set to 0.0 in labels with no predicted samples. Use `zero_division` parameter to control this behavior.\n",
      "  _warn_prf(average, modifier, msg_start, len(result))\n",
      "C:\\Users\\전승표\\AppData\\Roaming\\Python\\Python38\\site-packages\\sklearn\\metrics\\_classification.py:1471: UndefinedMetricWarning: Precision and F-score are ill-defined and being set to 0.0 in labels with no predicted samples. Use `zero_division` parameter to control this behavior.\n",
      "  _warn_prf(average, modifier, msg_start, len(result))\n"
     ]
    },
    {
     "name": "stdout",
     "output_type": "stream",
     "text": [
      "\n",
      "Epoch [27/30], Train Loss: 1.5409, Train Accuracy: 0.35, Train f1-score: 0.26 Val Loss: 1.5587, Val Accuracy: 0.34, Val f1-score: 0.26\n",
      "\n"
     ]
    },
    {
     "name": "stderr",
     "output_type": "stream",
     "text": [
      "Epoch 28/30 - Training: 100%|██████████| 5709/5709 [03:19<00:00, 28.63it/s]\n",
      "Epoch 28/30 - Validation: 100%|██████████| 1420/1420 [00:21<00:00, 66.41it/s]\n",
      "C:\\Users\\전승표\\AppData\\Roaming\\Python\\Python38\\site-packages\\sklearn\\metrics\\_classification.py:1471: UndefinedMetricWarning: Precision and F-score are ill-defined and being set to 0.0 in labels with no predicted samples. Use `zero_division` parameter to control this behavior.\n",
      "  _warn_prf(average, modifier, msg_start, len(result))\n",
      "C:\\Users\\전승표\\AppData\\Roaming\\Python\\Python38\\site-packages\\sklearn\\metrics\\_classification.py:1471: UndefinedMetricWarning: Precision and F-score are ill-defined and being set to 0.0 in labels with no predicted samples. Use `zero_division` parameter to control this behavior.\n",
      "  _warn_prf(average, modifier, msg_start, len(result))\n",
      "C:\\Users\\전승표\\AppData\\Roaming\\Python\\Python38\\site-packages\\sklearn\\metrics\\_classification.py:1471: UndefinedMetricWarning: Precision and F-score are ill-defined and being set to 0.0 in labels with no predicted samples. Use `zero_division` parameter to control this behavior.\n",
      "  _warn_prf(average, modifier, msg_start, len(result))\n"
     ]
    },
    {
     "name": "stdout",
     "output_type": "stream",
     "text": [
      "\n",
      "Epoch [28/30], Train Loss: 1.5403, Train Accuracy: 0.36, Train f1-score: 0.26 Val Loss: 1.5457, Val Accuracy: 0.34, Val f1-score: 0.25\n",
      "\n"
     ]
    },
    {
     "name": "stderr",
     "output_type": "stream",
     "text": [
      "Epoch 29/30 - Training: 100%|██████████| 5709/5709 [03:20<00:00, 28.42it/s]\n",
      "Epoch 29/30 - Validation: 100%|██████████| 1420/1420 [00:21<00:00, 65.10it/s]\n",
      "C:\\Users\\전승표\\AppData\\Roaming\\Python\\Python38\\site-packages\\sklearn\\metrics\\_classification.py:1471: UndefinedMetricWarning: Precision and F-score are ill-defined and being set to 0.0 in labels with no predicted samples. Use `zero_division` parameter to control this behavior.\n",
      "  _warn_prf(average, modifier, msg_start, len(result))\n",
      "C:\\Users\\전승표\\AppData\\Roaming\\Python\\Python38\\site-packages\\sklearn\\metrics\\_classification.py:1471: UndefinedMetricWarning: Precision and F-score are ill-defined and being set to 0.0 in labels with no predicted samples. Use `zero_division` parameter to control this behavior.\n",
      "  _warn_prf(average, modifier, msg_start, len(result))\n",
      "C:\\Users\\전승표\\AppData\\Roaming\\Python\\Python38\\site-packages\\sklearn\\metrics\\_classification.py:1471: UndefinedMetricWarning: Precision and F-score are ill-defined and being set to 0.0 in labels with no predicted samples. Use `zero_division` parameter to control this behavior.\n",
      "  _warn_prf(average, modifier, msg_start, len(result))\n"
     ]
    },
    {
     "name": "stdout",
     "output_type": "stream",
     "text": [
      "\n",
      "Epoch [29/30], Train Loss: 1.5398, Train Accuracy: 0.35, Train f1-score: 0.26 Val Loss: 1.5520, Val Accuracy: 0.34, Val f1-score: 0.26\n",
      "\n"
     ]
    },
    {
     "name": "stderr",
     "output_type": "stream",
     "text": [
      "Epoch 30/30 - Training: 100%|██████████| 5709/5709 [03:20<00:00, 28.44it/s]\n",
      "Epoch 30/30 - Validation: 100%|██████████| 1420/1420 [00:21<00:00, 65.04it/s]\n",
      "C:\\Users\\전승표\\AppData\\Roaming\\Python\\Python38\\site-packages\\sklearn\\metrics\\_classification.py:1471: UndefinedMetricWarning: Precision and F-score are ill-defined and being set to 0.0 in labels with no predicted samples. Use `zero_division` parameter to control this behavior.\n",
      "  _warn_prf(average, modifier, msg_start, len(result))\n",
      "C:\\Users\\전승표\\AppData\\Roaming\\Python\\Python38\\site-packages\\sklearn\\metrics\\_classification.py:1471: UndefinedMetricWarning: Precision and F-score are ill-defined and being set to 0.0 in labels with no predicted samples. Use `zero_division` parameter to control this behavior.\n",
      "  _warn_prf(average, modifier, msg_start, len(result))\n",
      "C:\\Users\\전승표\\AppData\\Roaming\\Python\\Python38\\site-packages\\sklearn\\metrics\\_classification.py:1471: UndefinedMetricWarning: Precision and F-score are ill-defined and being set to 0.0 in labels with no predicted samples. Use `zero_division` parameter to control this behavior.\n",
      "  _warn_prf(average, modifier, msg_start, len(result))\n"
     ]
    },
    {
     "name": "stdout",
     "output_type": "stream",
     "text": [
      "\n",
      "Epoch [30/30], Train Loss: 1.5394, Train Accuracy: 0.35, Train f1-score: 0.26 Val Loss: 1.5385, Val Accuracy: 0.34, Val f1-score: 0.25\n",
      "\n"
     ]
    }
   ],
   "source": [
    "best_model_state, train_losses, val_losses = train_model(model, train_loader, val_loader, criterion, optimizer, num_epochs=epochs)\n",
    "os.makedirs(\"./checkpoints/ablation_study\", exist_ok=True)\n",
    "torch.save(best_model_state, f\"./checkpoints/ablation_study/cnn_videoclassification_NIR_month5_{patch_size}_2-5m_{epochs}.pth\")\n",
    "del model,train_loader,val_loader,best_model_state\n",
    "torch.cuda.empty_cache()"
   ]
  },
  {
   "cell_type": "markdown",
   "metadata": {},
   "source": [
    "## Time만 사용( band=NIR, resolution=7.5m , patch_size=3 )"
   ]
  },
  {
   "cell_type": "code",
   "execution_count": 3,
   "metadata": {},
   "outputs": [],
   "source": [
    "epochs = 30\n",
    "bands = 10\n",
    "patch_size = 9 # 모델 안에서 3*3으로 변경\n",
    "\n",
    "train_dataset = TiffDataset(\n",
    "    large_tif_dir = os.path.join(source_data_dir,\"with_s2_int16\"),\n",
    "    file_list = [\"jiri_1.tif\", \"jiri_2.tif\", \"sobaek.tif\"], #전체 지역을 모두 사용한다.\n",
    "    label_file = label_file_path,\n",
    "    box_filter_fn = lambda box_number: not test_filter(box_number),\n",
    "    transform=base_transform(bands=bands, patch_size=patch_size),\n",
    "    patch_size = patch_size\n",
    ")\n",
    "val_dataset = TiffDataset(\n",
    "    large_tif_dir = os.path.join(source_data_dir,\"with_s2_int16\"),\n",
    "    file_list = [\"jiri_1.tif\", \"jiri_2.tif\", \"sobaek.tif\"], #전체 지역을 모두 사용한다.\n",
    "    label_file = label_file_path,\n",
    "    box_filter_fn = lambda box_number: test_filter(box_number),\n",
    "    transform=base_transform(bands=bands, patch_size=patch_size),\n",
    "    patch_size = patch_size\n",
    ")\n",
    "\n",
    "train_loader = DataLoader(train_dataset, batch_size=32, shuffle=True)\n",
    "val_loader = DataLoader(val_dataset, batch_size=32, shuffle=False)\n"
   ]
  },
  {
   "cell_type": "code",
   "execution_count": 20,
   "metadata": {},
   "outputs": [
    {
     "name": "stdout",
     "output_type": "stream",
     "text": [
      "파라미터 개수: 263910\n"
     ]
    }
   ],
   "source": [
    "class TimeVideoClassifier(nn.Module):\n",
    "    def __init__(self, input_bands, stage_repeats, stage_channels, num_classes=6, dropout=0.3):\n",
    "        super().__init__()\n",
    "        \n",
    "        # 초기 밴드 확장 (입력 밴드 수 -> 첫 번째 stage 채널 크기)\n",
    "        self.initial_conv = BandExpansion(input_bands, stage_channels[0])\n",
    "        \n",
    "        self.stages = nn.ModuleList()\n",
    "        in_channels = stage_channels[0]\n",
    "        \n",
    "        # 4개의 Stage 구성\n",
    "        for stage_idx in range(4):\n",
    "            # 기본 ResBlock 반복 적용\n",
    "            blocks = [ResBlock(in_channels, dropout) for _ in range(stage_repeats[stage_idx])]\n",
    "            self.stages.append(nn.Sequential(*blocks))\n",
    "            \n",
    "            # 마지막 Stage를 제외하고 밴드 확장 수행\n",
    "            if stage_idx < 3:\n",
    "                self.stages.append(BandExpansion(in_channels, stage_channels[stage_idx + 1]))\n",
    "                in_channels = stage_channels[stage_idx + 1]\n",
    "        \n",
    "        # 글로벌 평균 풀링 적용 (공간 차원 제거)\n",
    "        self.gap = nn.AdaptiveAvgPool3d(1)\n",
    "        \n",
    "        # 피드포워드 블록 2개 추가\n",
    "        self.ff1 = FeedForward(in_channels, dropout=dropout)\n",
    "        self.ff2 = FeedForward(in_channels, dropout=dropout)\n",
    "        \n",
    "        # 최종 분류기 (Linear 레이어)\n",
    "        self.classifier = nn.Linear(in_channels, num_classes)\n",
    "        \n",
    "        # 가중치 초기화 적용\n",
    "        self.apply(self._init_weights)\n",
    "    \n",
    "    def _init_weights(self, m):\n",
    "        if isinstance(m, nn.Conv3d) or isinstance(m, nn.Linear):\n",
    "            init.kaiming_normal_(m.weight, mode='fan_out', nonlinearity='relu')\n",
    "            if m.bias is not None:\n",
    "                init.constant_(m.bias, 0)\n",
    "    \n",
    "    def forward(self, x):\n",
    "        batch, bands, time, h, w = x.size()\n",
    "        x = x[:,3,:,:,:].unsqueeze(1) #32, 1,12, 9, 9\n",
    "        #print(x.shape)\n",
    "        #print(x.shape, x[0,0,:,:])\n",
    "        #x = F.avg_pool2d(x, kernel_size=3,stride=3,padding=0) #32, 10, 3, 3 해상도 축소\n",
    "        patches = x.unfold(2, 3, 3).unfold(3, 3, 3)\n",
    "        # 패치를 평탄화하여 중간값 계산을 위한 형태로 변환\n",
    "        patches_flat = patches.reshape(batch, time, -1, 9)\n",
    "\n",
    "        # 정렬하여 중간값(4번째 요소) 찾기\n",
    "        sorted_patches, _ = torch.sort(patches_flat, dim=-1)\n",
    "        median_values = sorted_patches[:, :, :, 4]\n",
    "\n",
    "        # 중간값을 원래 크기의 텐서로 재구성\n",
    "        new_h = (h - 3) // 3 + 1\n",
    "        new_w = (w - 3) // 3 + 1\n",
    "        x = median_values.reshape(batch,-1 ,time, new_h, new_w)\n",
    "        #print(x.shape)\n",
    "        #print( x[0,0,0,:,:])\n",
    "        \n",
    "        x = self.initial_conv(x)  # 초기 밴드 확장 적용\n",
    "        \n",
    "        # Stage 반복 수행\n",
    "        for stage in self.stages:\n",
    "            x = stage(x)\n",
    "        \n",
    "        # 글로벌 평균 풀링 적용 후 차원 축소\n",
    "        x = self.gap(x).view(x.size(0), -1)\n",
    "        \n",
    "        # 피드포워드 블록 두 개 통과\n",
    "        x = self.ff1(x.unsqueeze(-1).unsqueeze(-1).unsqueeze(-1))\n",
    "        x = self.ff2(x)\n",
    "        \n",
    "        # 최종 분류기 적용\n",
    "        x = self.classifier(x.squeeze(-1).squeeze(-1).squeeze(-1))\n",
    "        return x\n",
    "    \n",
    "# 모델 설정\n",
    "stage_repeats = [2, 2, 3, 2]  # 각 stage에서 ResBlock 반복 횟수\n",
    "stage_channels = [16,24,35,48] # 각 stage의 채널 크기 [16,24,48,96] =>263,958\n",
    "num_classes = 6  # 분류할 클래스 개수\n",
    "bands = 1\n",
    "\n",
    "# 모델 생성\n",
    "model = TimeVideoClassifier(bands, stage_repeats, stage_channels, num_classes=num_classes).to(device)\n",
    "criterion = nn.CrossEntropyLoss()\n",
    "optimizer = optim.AdamW(model.parameters(), lr=3e-4, weight_decay=1e-2)\n",
    "total_params = sum(p.numel() for p in model.parameters() if p.requires_grad)\n",
    "print(f\"파라미터 개수: {total_params}\")\n"
   ]
  },
  {
   "cell_type": "code",
   "execution_count": 21,
   "metadata": {},
   "outputs": [
    {
     "name": "stderr",
     "output_type": "stream",
     "text": [
      "Epoch 1/30 - Training: 100%|██████████| 5680/5680 [04:19<00:00, 21.91it/s]\n",
      "Epoch 1/30 - Validation: 100%|██████████| 1416/1416 [00:30<00:00, 45.79it/s]\n",
      "C:\\Users\\전승표\\AppData\\Roaming\\Python\\Python38\\site-packages\\sklearn\\metrics\\_classification.py:1471: UndefinedMetricWarning: Precision and F-score are ill-defined and being set to 0.0 in labels with no predicted samples. Use `zero_division` parameter to control this behavior.\n",
      "  _warn_prf(average, modifier, msg_start, len(result))\n",
      "C:\\Users\\전승표\\AppData\\Roaming\\Python\\Python38\\site-packages\\sklearn\\metrics\\_classification.py:1471: UndefinedMetricWarning: Precision and F-score are ill-defined and being set to 0.0 in labels with no predicted samples. Use `zero_division` parameter to control this behavior.\n",
      "  _warn_prf(average, modifier, msg_start, len(result))\n",
      "C:\\Users\\전승표\\AppData\\Roaming\\Python\\Python38\\site-packages\\sklearn\\metrics\\_classification.py:1471: UndefinedMetricWarning: Precision and F-score are ill-defined and being set to 0.0 in labels with no predicted samples. Use `zero_division` parameter to control this behavior.\n",
      "  _warn_prf(average, modifier, msg_start, len(result))\n"
     ]
    },
    {
     "name": "stdout",
     "output_type": "stream",
     "text": [
      "\n",
      "Epoch [1/30], Train Loss: 2.3602, Train Accuracy: 0.19, Train f1-score: 0.17 Val Loss: 1.8148, Val Accuracy: 0.19, Val f1-score: 0.05\n",
      "\n"
     ]
    },
    {
     "name": "stderr",
     "output_type": "stream",
     "text": [
      "Epoch 2/30 - Training: 100%|██████████| 5680/5680 [03:29<00:00, 27.10it/s]\n",
      "Epoch 2/30 - Validation: 100%|██████████| 1416/1416 [00:23<00:00, 60.62it/s]\n",
      "C:\\Users\\전승표\\AppData\\Roaming\\Python\\Python38\\site-packages\\sklearn\\metrics\\_classification.py:1471: UndefinedMetricWarning: Precision and F-score are ill-defined and being set to 0.0 in labels with no predicted samples. Use `zero_division` parameter to control this behavior.\n",
      "  _warn_prf(average, modifier, msg_start, len(result))\n",
      "C:\\Users\\전승표\\AppData\\Roaming\\Python\\Python38\\site-packages\\sklearn\\metrics\\_classification.py:1471: UndefinedMetricWarning: Precision and F-score are ill-defined and being set to 0.0 in labels with no predicted samples. Use `zero_division` parameter to control this behavior.\n",
      "  _warn_prf(average, modifier, msg_start, len(result))\n",
      "C:\\Users\\전승표\\AppData\\Roaming\\Python\\Python38\\site-packages\\sklearn\\metrics\\_classification.py:1471: UndefinedMetricWarning: Precision and F-score are ill-defined and being set to 0.0 in labels with no predicted samples. Use `zero_division` parameter to control this behavior.\n",
      "  _warn_prf(average, modifier, msg_start, len(result))\n"
     ]
    },
    {
     "name": "stdout",
     "output_type": "stream",
     "text": [
      "\n",
      "Epoch [2/30], Train Loss: 1.9652, Train Accuracy: 0.21, Train f1-score: 0.17 Val Loss: 1.8389, Val Accuracy: 0.19, Val f1-score: 0.06\n",
      "\n"
     ]
    },
    {
     "name": "stderr",
     "output_type": "stream",
     "text": [
      "Epoch 3/30 - Training: 100%|██████████| 5680/5680 [03:28<00:00, 27.26it/s]\n",
      "Epoch 3/30 - Validation: 100%|██████████| 1416/1416 [00:23<00:00, 59.84it/s]\n",
      "C:\\Users\\전승표\\AppData\\Roaming\\Python\\Python38\\site-packages\\sklearn\\metrics\\_classification.py:1471: UndefinedMetricWarning: Precision and F-score are ill-defined and being set to 0.0 in labels with no predicted samples. Use `zero_division` parameter to control this behavior.\n",
      "  _warn_prf(average, modifier, msg_start, len(result))\n",
      "C:\\Users\\전승표\\AppData\\Roaming\\Python\\Python38\\site-packages\\sklearn\\metrics\\_classification.py:1471: UndefinedMetricWarning: Precision and F-score are ill-defined and being set to 0.0 in labels with no predicted samples. Use `zero_division` parameter to control this behavior.\n",
      "  _warn_prf(average, modifier, msg_start, len(result))\n",
      "C:\\Users\\전승표\\AppData\\Roaming\\Python\\Python38\\site-packages\\sklearn\\metrics\\_classification.py:1471: UndefinedMetricWarning: Precision and F-score are ill-defined and being set to 0.0 in labels with no predicted samples. Use `zero_division` parameter to control this behavior.\n",
      "  _warn_prf(average, modifier, msg_start, len(result))\n"
     ]
    },
    {
     "name": "stdout",
     "output_type": "stream",
     "text": [
      "\n",
      "Epoch [3/30], Train Loss: 1.7656, Train Accuracy: 0.26, Train f1-score: 0.21 Val Loss: 1.7776, Val Accuracy: 0.21, Val f1-score: 0.09\n",
      "\n"
     ]
    },
    {
     "name": "stderr",
     "output_type": "stream",
     "text": [
      "Epoch 4/30 - Training: 100%|██████████| 5680/5680 [03:28<00:00, 27.25it/s]\n",
      "Epoch 4/30 - Validation: 100%|██████████| 1416/1416 [00:24<00:00, 58.81it/s]\n",
      "C:\\Users\\전승표\\AppData\\Roaming\\Python\\Python38\\site-packages\\sklearn\\metrics\\_classification.py:1471: UndefinedMetricWarning: Precision and F-score are ill-defined and being set to 0.0 in labels with no predicted samples. Use `zero_division` parameter to control this behavior.\n",
      "  _warn_prf(average, modifier, msg_start, len(result))\n",
      "C:\\Users\\전승표\\AppData\\Roaming\\Python\\Python38\\site-packages\\sklearn\\metrics\\_classification.py:1471: UndefinedMetricWarning: Precision and F-score are ill-defined and being set to 0.0 in labels with no predicted samples. Use `zero_division` parameter to control this behavior.\n",
      "  _warn_prf(average, modifier, msg_start, len(result))\n",
      "C:\\Users\\전승표\\AppData\\Roaming\\Python\\Python38\\site-packages\\sklearn\\metrics\\_classification.py:1471: UndefinedMetricWarning: Precision and F-score are ill-defined and being set to 0.0 in labels with no predicted samples. Use `zero_division` parameter to control this behavior.\n",
      "  _warn_prf(average, modifier, msg_start, len(result))\n"
     ]
    },
    {
     "name": "stdout",
     "output_type": "stream",
     "text": [
      "\n",
      "Epoch [4/30], Train Loss: 1.5719, Train Accuracy: 0.32, Train f1-score: 0.25 Val Loss: 1.5838, Val Accuracy: 0.24, Val f1-score: 0.18\n",
      "\n"
     ]
    },
    {
     "name": "stderr",
     "output_type": "stream",
     "text": [
      "Epoch 5/30 - Training: 100%|██████████| 5680/5680 [03:30<00:00, 27.03it/s]\n",
      "Epoch 5/30 - Validation: 100%|██████████| 1416/1416 [00:24<00:00, 58.36it/s]\n",
      "C:\\Users\\전승표\\AppData\\Roaming\\Python\\Python38\\site-packages\\sklearn\\metrics\\_classification.py:1471: UndefinedMetricWarning: Precision and F-score are ill-defined and being set to 0.0 in labels with no predicted samples. Use `zero_division` parameter to control this behavior.\n",
      "  _warn_prf(average, modifier, msg_start, len(result))\n",
      "C:\\Users\\전승표\\AppData\\Roaming\\Python\\Python38\\site-packages\\sklearn\\metrics\\_classification.py:1471: UndefinedMetricWarning: Precision and F-score are ill-defined and being set to 0.0 in labels with no predicted samples. Use `zero_division` parameter to control this behavior.\n",
      "  _warn_prf(average, modifier, msg_start, len(result))\n",
      "C:\\Users\\전승표\\AppData\\Roaming\\Python\\Python38\\site-packages\\sklearn\\metrics\\_classification.py:1471: UndefinedMetricWarning: Precision and F-score are ill-defined and being set to 0.0 in labels with no predicted samples. Use `zero_division` parameter to control this behavior.\n",
      "  _warn_prf(average, modifier, msg_start, len(result))\n"
     ]
    },
    {
     "name": "stdout",
     "output_type": "stream",
     "text": [
      "\n",
      "Epoch [5/30], Train Loss: 1.4650, Train Accuracy: 0.36, Train f1-score: 0.30 Val Loss: 1.4694, Val Accuracy: 0.33, Val f1-score: 0.26\n",
      "\n"
     ]
    },
    {
     "name": "stderr",
     "output_type": "stream",
     "text": [
      "Epoch 6/30 - Training: 100%|██████████| 5680/5680 [03:28<00:00, 27.19it/s]\n",
      "Epoch 6/30 - Validation: 100%|██████████| 1416/1416 [00:24<00:00, 57.88it/s]\n"
     ]
    },
    {
     "name": "stdout",
     "output_type": "stream",
     "text": [
      "\n",
      "Epoch [6/30], Train Loss: 1.3658, Train Accuracy: 0.42, Train f1-score: 0.37 Val Loss: 1.3699, Val Accuracy: 0.39, Val f1-score: 0.37\n",
      "\n"
     ]
    },
    {
     "name": "stderr",
     "output_type": "stream",
     "text": [
      "Epoch 7/30 - Training: 100%|██████████| 5680/5680 [03:29<00:00, 27.10it/s]\n",
      "Epoch 7/30 - Validation: 100%|██████████| 1416/1416 [00:24<00:00, 58.07it/s]\n"
     ]
    },
    {
     "name": "stdout",
     "output_type": "stream",
     "text": [
      "\n",
      "Epoch [7/30], Train Loss: 1.2974, Train Accuracy: 0.45, Train f1-score: 0.41 Val Loss: 1.2800, Val Accuracy: 0.44, Val f1-score: 0.39\n",
      "\n"
     ]
    },
    {
     "name": "stderr",
     "output_type": "stream",
     "text": [
      "Epoch 8/30 - Training: 100%|██████████| 5680/5680 [03:28<00:00, 27.29it/s]\n",
      "Epoch 8/30 - Validation: 100%|██████████| 1416/1416 [00:24<00:00, 57.67it/s]\n"
     ]
    },
    {
     "name": "stdout",
     "output_type": "stream",
     "text": [
      "\n",
      "Epoch [8/30], Train Loss: 1.2048, Train Accuracy: 0.49, Train f1-score: 0.45 Val Loss: 1.1714, Val Accuracy: 0.47, Val f1-score: 0.42\n",
      "\n"
     ]
    },
    {
     "name": "stderr",
     "output_type": "stream",
     "text": [
      "Epoch 9/30 - Training: 100%|██████████| 5680/5680 [03:25<00:00, 27.70it/s]\n",
      "Epoch 9/30 - Validation: 100%|██████████| 1416/1416 [00:24<00:00, 57.89it/s]\n"
     ]
    },
    {
     "name": "stdout",
     "output_type": "stream",
     "text": [
      "\n",
      "Epoch [9/30], Train Loss: 1.1257, Train Accuracy: 0.53, Train f1-score: 0.49 Val Loss: 1.1095, Val Accuracy: 0.52, Val f1-score: 0.51\n",
      "\n"
     ]
    },
    {
     "name": "stderr",
     "output_type": "stream",
     "text": [
      "Epoch 10/30 - Training: 100%|██████████| 5680/5680 [03:25<00:00, 27.61it/s]\n",
      "Epoch 10/30 - Validation: 100%|██████████| 1416/1416 [00:24<00:00, 56.80it/s]\n"
     ]
    },
    {
     "name": "stdout",
     "output_type": "stream",
     "text": [
      "\n",
      "Epoch [10/30], Train Loss: 1.0756, Train Accuracy: 0.55, Train f1-score: 0.52 Val Loss: 1.0815, Val Accuracy: 0.55, Val f1-score: 0.54\n",
      "\n"
     ]
    },
    {
     "name": "stderr",
     "output_type": "stream",
     "text": [
      "Epoch 11/30 - Training: 100%|██████████| 5680/5680 [05:27<00:00, 17.35it/s]\n",
      "Epoch 11/30 - Validation: 100%|██████████| 1416/1416 [01:05<00:00, 21.66it/s]\n"
     ]
    },
    {
     "name": "stdout",
     "output_type": "stream",
     "text": [
      "\n",
      "Epoch [11/30], Train Loss: 1.0442, Train Accuracy: 0.57, Train f1-score: 0.54 Val Loss: 1.0791, Val Accuracy: 0.55, Val f1-score: 0.55\n",
      "\n"
     ]
    },
    {
     "name": "stderr",
     "output_type": "stream",
     "text": [
      "Epoch 12/30 - Training: 100%|██████████| 5680/5680 [09:30<00:00,  9.95it/s]\n",
      "Epoch 12/30 - Validation: 100%|██████████| 1416/1416 [01:11<00:00, 19.79it/s]\n"
     ]
    },
    {
     "name": "stdout",
     "output_type": "stream",
     "text": [
      "\n",
      "Epoch [12/30], Train Loss: 1.0132, Train Accuracy: 0.58, Train f1-score: 0.56 Val Loss: 1.0353, Val Accuracy: 0.56, Val f1-score: 0.55\n",
      "\n"
     ]
    },
    {
     "name": "stderr",
     "output_type": "stream",
     "text": [
      "Epoch 13/30 - Training: 100%|██████████| 5680/5680 [06:32<00:00, 14.48it/s]\n",
      "Epoch 13/30 - Validation: 100%|██████████| 1416/1416 [00:24<00:00, 58.04it/s]\n"
     ]
    },
    {
     "name": "stdout",
     "output_type": "stream",
     "text": [
      "\n",
      "Epoch [13/30], Train Loss: 0.9881, Train Accuracy: 0.60, Train f1-score: 0.57 Val Loss: 1.0623, Val Accuracy: 0.55, Val f1-score: 0.55\n",
      "\n"
     ]
    },
    {
     "name": "stderr",
     "output_type": "stream",
     "text": [
      "Epoch 14/30 - Training: 100%|██████████| 5680/5680 [03:27<00:00, 27.41it/s]\n",
      "Epoch 14/30 - Validation: 100%|██████████| 1416/1416 [00:24<00:00, 56.76it/s]\n"
     ]
    },
    {
     "name": "stdout",
     "output_type": "stream",
     "text": [
      "\n",
      "Epoch [14/30], Train Loss: 0.9651, Train Accuracy: 0.61, Train f1-score: 0.59 Val Loss: 1.0167, Val Accuracy: 0.58, Val f1-score: 0.58\n",
      "\n"
     ]
    },
    {
     "name": "stderr",
     "output_type": "stream",
     "text": [
      "Epoch 15/30 - Training: 100%|██████████| 5680/5680 [03:31<00:00, 26.84it/s]\n",
      "Epoch 15/30 - Validation: 100%|██████████| 1416/1416 [00:25<00:00, 55.55it/s]\n"
     ]
    },
    {
     "name": "stdout",
     "output_type": "stream",
     "text": [
      "\n",
      "Epoch [15/30], Train Loss: 0.9502, Train Accuracy: 0.62, Train f1-score: 0.59 Val Loss: 1.0037, Val Accuracy: 0.58, Val f1-score: 0.58\n",
      "\n"
     ]
    },
    {
     "name": "stderr",
     "output_type": "stream",
     "text": [
      "Epoch 16/30 - Training: 100%|██████████| 5680/5680 [05:27<00:00, 17.34it/s]\n",
      "Epoch 16/30 - Validation: 100%|██████████| 1416/1416 [01:07<00:00, 20.94it/s]\n"
     ]
    },
    {
     "name": "stdout",
     "output_type": "stream",
     "text": [
      "\n",
      "Epoch [16/30], Train Loss: 0.9346, Train Accuracy: 0.62, Train f1-score: 0.60 Val Loss: 0.9686, Val Accuracy: 0.60, Val f1-score: 0.61\n",
      "\n"
     ]
    },
    {
     "name": "stderr",
     "output_type": "stream",
     "text": [
      "Epoch 17/30 - Training: 100%|██████████| 5680/5680 [07:17<00:00, 12.99it/s]\n",
      "Epoch 17/30 - Validation: 100%|██████████| 1416/1416 [00:24<00:00, 58.77it/s]\n"
     ]
    },
    {
     "name": "stdout",
     "output_type": "stream",
     "text": [
      "\n",
      "Epoch [17/30], Train Loss: 0.9184, Train Accuracy: 0.63, Train f1-score: 0.61 Val Loss: 1.0258, Val Accuracy: 0.57, Val f1-score: 0.58\n",
      "\n"
     ]
    },
    {
     "name": "stderr",
     "output_type": "stream",
     "text": [
      "Epoch 18/30 - Training: 100%|██████████| 5680/5680 [03:29<00:00, 27.09it/s]\n",
      "Epoch 18/30 - Validation: 100%|██████████| 1416/1416 [00:24<00:00, 58.74it/s]\n"
     ]
    },
    {
     "name": "stdout",
     "output_type": "stream",
     "text": [
      "\n",
      "Epoch [18/30], Train Loss: 0.9109, Train Accuracy: 0.63, Train f1-score: 0.61 Val Loss: 0.9694, Val Accuracy: 0.59, Val f1-score: 0.60\n",
      "\n"
     ]
    },
    {
     "name": "stderr",
     "output_type": "stream",
     "text": [
      "Epoch 19/30 - Training: 100%|██████████| 5680/5680 [03:27<00:00, 27.36it/s]\n",
      "Epoch 19/30 - Validation: 100%|██████████| 1416/1416 [00:22<00:00, 62.37it/s]\n"
     ]
    },
    {
     "name": "stdout",
     "output_type": "stream",
     "text": [
      "\n",
      "Epoch [19/30], Train Loss: 0.9034, Train Accuracy: 0.64, Train f1-score: 0.62 Val Loss: 0.9445, Val Accuracy: 0.61, Val f1-score: 0.62\n",
      "\n"
     ]
    },
    {
     "name": "stderr",
     "output_type": "stream",
     "text": [
      "Epoch 20/30 - Training: 100%|██████████| 5680/5680 [03:25<00:00, 27.61it/s]\n",
      "Epoch 20/30 - Validation: 100%|██████████| 1416/1416 [00:24<00:00, 56.86it/s]\n"
     ]
    },
    {
     "name": "stdout",
     "output_type": "stream",
     "text": [
      "\n",
      "Epoch [20/30], Train Loss: 0.8945, Train Accuracy: 0.64, Train f1-score: 0.62 Val Loss: 0.9689, Val Accuracy: 0.59, Val f1-score: 0.60\n",
      "\n"
     ]
    },
    {
     "name": "stderr",
     "output_type": "stream",
     "text": [
      "Epoch 21/30 - Training: 100%|██████████| 5680/5680 [05:31<00:00, 17.13it/s]\n",
      "Epoch 21/30 - Validation: 100%|██████████| 1416/1416 [00:25<00:00, 54.62it/s]\n"
     ]
    },
    {
     "name": "stdout",
     "output_type": "stream",
     "text": [
      "\n",
      "Epoch [21/30], Train Loss: 0.8864, Train Accuracy: 0.65, Train f1-score: 0.63 Val Loss: 0.9588, Val Accuracy: 0.60, Val f1-score: 0.60\n",
      "\n"
     ]
    },
    {
     "name": "stderr",
     "output_type": "stream",
     "text": [
      "Epoch 22/30 - Training: 100%|██████████| 5680/5680 [03:30<00:00, 27.03it/s]\n",
      "Epoch 22/30 - Validation: 100%|██████████| 1416/1416 [00:25<00:00, 55.44it/s]\n"
     ]
    },
    {
     "name": "stdout",
     "output_type": "stream",
     "text": [
      "\n",
      "Epoch [22/30], Train Loss: 0.8791, Train Accuracy: 0.65, Train f1-score: 0.63 Val Loss: 0.9371, Val Accuracy: 0.61, Val f1-score: 0.62\n",
      "\n"
     ]
    },
    {
     "name": "stderr",
     "output_type": "stream",
     "text": [
      "Epoch 23/30 - Training: 100%|██████████| 5680/5680 [03:34<00:00, 26.48it/s]\n",
      "Epoch 23/30 - Validation: 100%|██████████| 1416/1416 [00:25<00:00, 54.62it/s]\n"
     ]
    },
    {
     "name": "stdout",
     "output_type": "stream",
     "text": [
      "\n",
      "Epoch [23/30], Train Loss: 0.8734, Train Accuracy: 0.65, Train f1-score: 0.63 Val Loss: 0.9467, Val Accuracy: 0.60, Val f1-score: 0.61\n",
      "\n"
     ]
    },
    {
     "name": "stderr",
     "output_type": "stream",
     "text": [
      "Epoch 24/30 - Training: 100%|██████████| 5680/5680 [05:52<00:00, 16.09it/s]\n",
      "Epoch 24/30 - Validation: 100%|██████████| 1416/1416 [01:10<00:00, 20.09it/s]\n"
     ]
    },
    {
     "name": "stdout",
     "output_type": "stream",
     "text": [
      "\n",
      "Epoch [24/30], Train Loss: 0.8669, Train Accuracy: 0.66, Train f1-score: 0.64 Val Loss: 0.9989, Val Accuracy: 0.58, Val f1-score: 0.58\n",
      "\n"
     ]
    },
    {
     "name": "stderr",
     "output_type": "stream",
     "text": [
      "Epoch 25/30 - Training: 100%|██████████| 5680/5680 [03:37<00:00, 26.14it/s]\n",
      "Epoch 25/30 - Validation: 100%|██████████| 1416/1416 [00:24<00:00, 57.82it/s]\n"
     ]
    },
    {
     "name": "stdout",
     "output_type": "stream",
     "text": [
      "\n",
      "Epoch [25/30], Train Loss: 0.8623, Train Accuracy: 0.66, Train f1-score: 0.64 Val Loss: 0.9466, Val Accuracy: 0.60, Val f1-score: 0.61\n",
      "\n"
     ]
    },
    {
     "name": "stderr",
     "output_type": "stream",
     "text": [
      "Epoch 26/30 - Training: 100%|██████████| 5680/5680 [03:32<00:00, 26.72it/s]\n",
      "Epoch 26/30 - Validation: 100%|██████████| 1416/1416 [00:24<00:00, 58.63it/s]\n"
     ]
    },
    {
     "name": "stdout",
     "output_type": "stream",
     "text": [
      "\n",
      "Epoch [26/30], Train Loss: 0.8565, Train Accuracy: 0.66, Train f1-score: 0.64 Val Loss: 0.9152, Val Accuracy: 0.62, Val f1-score: 0.63\n",
      "\n"
     ]
    },
    {
     "name": "stderr",
     "output_type": "stream",
     "text": [
      "Epoch 27/30 - Training: 100%|██████████| 5680/5680 [03:34<00:00, 26.48it/s]\n",
      "Epoch 27/30 - Validation: 100%|██████████| 1416/1416 [00:24<00:00, 58.17it/s]\n"
     ]
    },
    {
     "name": "stdout",
     "output_type": "stream",
     "text": [
      "\n",
      "Epoch [27/30], Train Loss: 0.8537, Train Accuracy: 0.66, Train f1-score: 0.64 Val Loss: 0.9277, Val Accuracy: 0.60, Val f1-score: 0.61\n",
      "\n"
     ]
    },
    {
     "name": "stderr",
     "output_type": "stream",
     "text": [
      "Epoch 28/30 - Training: 100%|██████████| 5680/5680 [03:32<00:00, 26.72it/s]\n",
      "Epoch 28/30 - Validation: 100%|██████████| 1416/1416 [00:24<00:00, 58.46it/s]\n"
     ]
    },
    {
     "name": "stdout",
     "output_type": "stream",
     "text": [
      "\n",
      "Epoch [28/30], Train Loss: 0.8500, Train Accuracy: 0.66, Train f1-score: 0.64 Val Loss: 0.9489, Val Accuracy: 0.59, Val f1-score: 0.61\n",
      "\n"
     ]
    },
    {
     "name": "stderr",
     "output_type": "stream",
     "text": [
      "Epoch 29/30 - Training: 100%|██████████| 5680/5680 [03:28<00:00, 27.18it/s]\n",
      "Epoch 29/30 - Validation: 100%|██████████| 1416/1416 [00:24<00:00, 58.68it/s]\n"
     ]
    },
    {
     "name": "stdout",
     "output_type": "stream",
     "text": [
      "\n",
      "Epoch [29/30], Train Loss: 0.8443, Train Accuracy: 0.67, Train f1-score: 0.65 Val Loss: 0.9065, Val Accuracy: 0.62, Val f1-score: 0.63\n",
      "\n"
     ]
    },
    {
     "name": "stderr",
     "output_type": "stream",
     "text": [
      "Epoch 30/30 - Training: 100%|██████████| 5680/5680 [03:29<00:00, 27.12it/s]\n",
      "Epoch 30/30 - Validation: 100%|██████████| 1416/1416 [00:24<00:00, 58.86it/s]\n"
     ]
    },
    {
     "name": "stdout",
     "output_type": "stream",
     "text": [
      "\n",
      "Epoch [30/30], Train Loss: 0.8409, Train Accuracy: 0.67, Train f1-score: 0.65 Val Loss: 0.9190, Val Accuracy: 0.62, Val f1-score: 0.63\n",
      "\n"
     ]
    }
   ],
   "source": [
    "best_model_state, train_losses, val_losses = train_model(model, train_loader, val_loader, criterion, optimizer, num_epochs=epochs)\n",
    "os.makedirs(\"./checkpoints/ablation_study\", exist_ok=True)\n",
    "torch.save(best_model_state, f\"./checkpoints/ablation_study/cnn_videoclassification_NIR_all_{patch_size}_7-5m_{epochs}.pth\")\n",
    "del model,train_loader,val_loader,best_model_state\n",
    "torch.cuda.empty_cache()"
   ]
  }
 ],
 "metadata": {
  "kernelspec": {
   "display_name": "py3_8",
   "language": "python",
   "name": "python3"
  },
  "language_info": {
   "codemirror_mode": {
    "name": "ipython",
    "version": 3
   },
   "file_extension": ".py",
   "mimetype": "text/x-python",
   "name": "python",
   "nbconvert_exporter": "python",
   "pygments_lexer": "ipython3",
   "version": "3.8.18"
  }
 },
 "nbformat": 4,
 "nbformat_minor": 2
}
